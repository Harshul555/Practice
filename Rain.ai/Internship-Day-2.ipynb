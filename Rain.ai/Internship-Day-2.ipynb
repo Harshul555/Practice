{
 "cells": [
  {
   "cell_type": "code",
   "execution_count": 1,
   "metadata": {},
   "outputs": [
    {
     "name": "stdout",
     "output_type": "stream",
     "text": [
      "[8, 8, 8, 2, 2, 5, 5, 6]\n"
     ]
    }
   ],
   "source": [
    "# Sort elements by frequency\n",
    "from collections import defaultdict\n",
    "arr = [2, 5, 2, 8, 5, 6, 8, 8]\n",
    "ht = defaultdict(lambda:0)\n",
    "for i in arr:\n",
    "    ht[i] += 1\n",
    "arr.sort(key = lambda x: (-ht[x],x))\n",
    "print(arr)"
   ]
  },
  {
   "cell_type": "code",
   "execution_count": 2,
   "metadata": {},
   "outputs": [
    {
     "name": "stdout",
     "output_type": "stream",
     "text": [
      "Number of inversions are 6\n"
     ]
    }
   ],
   "source": [
    "# Count Inversions in an array\n",
    "\n",
    "def merge_sort(arr, temp, l, r):\n",
    "    inv_count = 0\n",
    "    if l<r:\n",
    "        mid = (l+r)//2\n",
    "        inv_count += merge_sort(arr, temp, l, mid)\n",
    "        inv_count += merge_sort(arr, temp, mid+1,r)\n",
    "        inv_count += merge(arr, temp, l, mid, r)\n",
    "    return inv_count\n",
    "\n",
    "def merge(arr, temp, l, mid, r):\n",
    "    i = l\n",
    "    j = mid+1\n",
    "    k = l\n",
    "    inv_count = 0\n",
    "    while i<=mid and j<=r:\n",
    "        if arr[i]< arr[j]:\n",
    "            temp[k] = arr[i]\n",
    "            k+=1\n",
    "            i+=1\n",
    "        else:\n",
    "            temp[k] = arr[j]\n",
    "            inv_count +=  (mid-i+1)\n",
    "            k += 1\n",
    "            j += 1\n",
    "    while i<=mid:\n",
    "        temp[k] = arr[i]\n",
    "        k += 1\n",
    "        i += 1\n",
    "    while j<=r:\n",
    "        temp[k] = arr[j]\n",
    "        k += 1\n",
    "        j += 1\n",
    "    arr[l:r+1] = temp[l:r+1]\n",
    "    return inv_count\n",
    "\n",
    "arr = [8,4,2,1]\n",
    "n = len(arr)\n",
    "temp = [0]*n\n",
    "result = merge_sort(arr, temp, 0, n-1)\n",
    "print(\"Number of inversions are\", result)"
   ]
  },
  {
   "cell_type": "code",
   "execution_count": 3,
   "metadata": {},
   "outputs": [
    {
     "name": "stdout",
     "output_type": "stream",
     "text": [
      "[0, 0, 1, 1, 1, 2]\n"
     ]
    }
   ],
   "source": [
    "#Sort an array of 0s, 1s and 2s\n",
    "\n",
    "def num_sort(arr, n):\n",
    "    c0 = c1 = c2 =0\n",
    "    for i in arr:\n",
    "        if i==0:\n",
    "            c0 += 1\n",
    "        elif i==1:\n",
    "            c1 += 1\n",
    "        elif i==2:\n",
    "            c2 +=0\n",
    "    i = 0        \n",
    "    while c0>0:\n",
    "        arr[i] = 0\n",
    "        c0 -= 1\n",
    "        i += 1\n",
    "    \n",
    "    while c1>0:\n",
    "        arr[i] = 1\n",
    "        c1 -= 1\n",
    "        i += 1\n",
    "            \n",
    "    while c2>0:\n",
    "        arr[i] = 2\n",
    "        c2 -= 1\n",
    "        i += 1\n",
    "arr = [0,1,2,0,1,2]\n",
    "n = len(arr)\n",
    "num_sort(arr, n)\n",
    "print(arr)"
   ]
  },
  {
   "cell_type": "code",
   "execution_count": 4,
   "metadata": {},
   "outputs": [
    {
     "name": "stdout",
     "output_type": "stream",
     "text": [
      "[12, 20, 30, 25, 40, 32, 31, 35, 50] 9\n"
     ]
    }
   ],
   "source": [
    "# Find minimum lenght of unsorted array\n",
    "def unsorted_len(arr, n):\n",
    "    e = n-1\n",
    "    s = 0\n",
    "    for s in range(0,n):\n",
    "        if arr[s]>arr[s+1]:\n",
    "            break\n",
    "    if s == n-1:\n",
    "        print(\"Array is completely sorted\")\n",
    "        return\n",
    "    \n",
    "    while e>0:\n",
    "        if arr[e]<arr[e-1]:\n",
    "            break\n",
    "        e -= 1\n",
    "        \n",
    "    maximum = max(arr)\n",
    "    minimum = min(arr)\n",
    "    \n",
    "    for i in range(s+1, e+1):\n",
    "        if arr[i] > maximum:\n",
    "            maximum = arr[i]\n",
    "        if arr[i] < minimum:\n",
    "            minimum = arr[i]\n",
    "            \n",
    "    \n",
    "    for i in range(s):\n",
    "        if arr[i] > minimum:\n",
    "            s = i\n",
    "            break\n",
    "    i = n-1\n",
    "    while i >= e+1:\n",
    "        if arr[i] < maximum:\n",
    "            e = i\n",
    "            break\n",
    "        i -= 1\n",
    "    print(arr[s:e+1], e-s+1)\n",
    "arr = [10, 12, 20, 30, 25, 40, 32, 31, 35, 50, 60]\n",
    "n = len(arr)\n",
    "unsorted_len(arr, n)"
   ]
  },
  {
   "cell_type": "code",
   "execution_count": 5,
   "metadata": {},
   "outputs": [
    {
     "name": "stdout",
     "output_type": "stream",
     "text": [
      "The minimum length of sub-array required: 1\n"
     ]
    }
   ],
   "source": [
    "# Smallest Contiguous Sub-Array\n",
    "def solve(arr, key):\n",
    "    n = len(arr)\n",
    "    ws = we = wsum = 0\n",
    "    minL = n+1\n",
    "    for we in range(0,n):\n",
    "        wsum += arr[we]\n",
    "        while (wsum >= key):\n",
    "            minL = min(minL, we-ws+1)\n",
    "            wsum = wsum - arr[ws]\n",
    "            ws += 1\n",
    "    return minL\n",
    "arr = [1,2,3,4]\n",
    "key = 4\n",
    "print(\"The minimum length of sub-array required: \",end=\"\")\n",
    "result = solve(arr, key)\n",
    "if result > len(arr):\n",
    "    print(-1)\n",
    "else:\n",
    "    print(result)"
   ]
  },
  {
   "cell_type": "code",
   "execution_count": 6,
   "metadata": {},
   "outputs": [
    {
     "name": "stdout",
     "output_type": "stream",
     "text": [
      "araa\n",
      "araaci\n"
     ]
    }
   ],
   "source": [
    "# Longest substring with no more than k-distinct characters\n",
    "\n",
    "def val_unique(count, k):\n",
    "    val = 0\n",
    "    for i in range(26):\n",
    "        if count[i]>0:\n",
    "            val += 1\n",
    "    return val<=k\n",
    "\n",
    "def max_substring(s, k):\n",
    "    ws = we = 0\n",
    "    count = [0]*(26)\n",
    "    u = 0\n",
    "    n = len(s)\n",
    "    for i in range(n):\n",
    "        if count[ord(s[i])-ord('a')] == 0:\n",
    "            u += 1\n",
    "        count[ord(s[i])-ord('a')] += 1\n",
    "        \n",
    "    if u<k:\n",
    "        return \"Such string not possible\"\n",
    "    \n",
    "    count = [0]*26\n",
    "    max_l = 1\n",
    "    max_s = ws\n",
    "    count[ord(s[ws]) - ord('a')] += 1\n",
    "    for i in range(1, n):\n",
    "        count[ord(s[i])-ord('a')] += 1\n",
    "        we += 1\n",
    "        while val_unique(count, k) == False:\n",
    "            count[ord(s[ws]) - ord('a')] -= 1\n",
    "            ws += 1\n",
    "        if max_l < (we-ws+1):\n",
    "            max_l = we-ws+1\n",
    "            max_s = ws\n",
    "    return s[max_s:max_s+max_l]\n",
    "        \n",
    "\n",
    "a = 'araaci'\n",
    "print(max_substring(a, 2))\n",
    "print(max_substring(a, 4))"
   ]
  },
  {
   "cell_type": "code",
   "execution_count": 7,
   "metadata": {},
   "outputs": [
    {
     "name": "stdout",
     "output_type": "stream",
     "text": [
      "B is subset of A\n",
      "B not subset of A\n"
     ]
    }
   ],
   "source": [
    "# Check if a is subset of b\n",
    "def sub_set(a,b):\n",
    "    n_a = len(a)\n",
    "    n_b = len(b)\n",
    "    count = [0]*(max(a)+1)\n",
    "    for i in range(n_a):\n",
    "        count[a[i]] += 1\n",
    "    for i in range(n_b):\n",
    "        count[b[i]] -= 1\n",
    "    for i in count:\n",
    "        if i<0:\n",
    "            return \"B not subset of A\"\n",
    "            \n",
    "    else:\n",
    "        return \"B is subset of A\"\n",
    "\n",
    "arr1 = [11, 1, 13, 21, 3, 7]\n",
    "arr2 = [11, 3, 7, 1]\n",
    "print(sub_set(arr1, arr2))\n",
    "\n",
    "arr1 = [10, 5, 2, 23, 19]\n",
    "arr2 = [19, 5, 3]\n",
    "print(sub_set(arr1, arr2))\n"
   ]
  },
  {
   "cell_type": "code",
   "execution_count": 8,
   "metadata": {},
   "outputs": [
    {
     "name": "stdout",
     "output_type": "stream",
     "text": [
      "0\n",
      "1\n"
     ]
    }
   ],
   "source": [
    "# Handling missing keys in dictionary\n",
    "\n",
    "character_count = {\"a\":1, \"b\": 2, \"c\":3}\n",
    "print(character_count.get(\"z\", 0))\n",
    "print(character_count.get(\"a\", 0))\n",
    "\n"
   ]
  },
  {
   "cell_type": "code",
   "execution_count": 9,
   "metadata": {},
   "outputs": [
    {
     "name": "stdout",
     "output_type": "stream",
     "text": [
      "12,10,9,45,2\n",
      "1\n"
     ]
    }
   ],
   "source": [
    "# Print all distinct elements of a given integer array\n",
    "\n",
    "from collections import OrderedDict\n",
    "\n",
    "def printDistinct(a):\n",
    "    ord_dict = OrderedDict.fromkeys(a)\n",
    "    result = [key for (key, value) in ord_dict.items()]\n",
    "    print(\",\".join(map(str,result)))\n",
    "    \n",
    "printDistinct([12, 10, 9, 45, 2, 10, 10, 45])\n",
    "printDistinct([1, 1, 1, 1, 1])"
   ]
  },
  {
   "cell_type": "code",
   "execution_count": 10,
   "metadata": {},
   "outputs": [
    {
     "name": "stdout",
     "output_type": "stream",
     "text": [
      "ChainMap({'a': 1, 'b': 2}, {'x': 1, 'y': 2}, {'z': 1, 'c': 2})\n",
      "['z', 'c', 'x', 'y', 'a', 'b']\n",
      "[1, 2, 1, 2, 1, 2]\n"
     ]
    }
   ],
   "source": [
    "# Using ChainMap\n",
    "\n",
    "from collections import ChainMap\n",
    "d1 = {'a': 1, \"b\":2}\n",
    "d2 = {'x': 1, \"y\":2}\n",
    "d3 = {'z': 1, \"c\":2}\n",
    "c = ChainMap(d1,d2,d3)\n",
    "print(c)\n",
    "print(list(c.keys()))\n",
    "print(list(c.values()))"
   ]
  },
  {
   "cell_type": "code",
   "execution_count": 11,
   "metadata": {},
   "outputs": [
    {
     "name": "stdout",
     "output_type": "stream",
     "text": [
      "4\n"
     ]
    }
   ],
   "source": [
    "# Find element of array having frequency > size(array)/2\n",
    "from collections import Counter\n",
    "\n",
    "def majority(a):\n",
    "    freq = Counter(a)\n",
    "    n = len(a)\n",
    "    for (key, val) in freq.items():\n",
    "        if( val > (n/2)):\n",
    "            print(key)\n",
    "            return\n",
    "    print(\"None\")\n",
    "    \n",
    "a = [3,3,4,2,4,4,2,4,4] \n",
    "majority(a)"
   ]
  },
  {
   "cell_type": "code",
   "execution_count": 12,
   "metadata": {},
   "outputs": [
    {
     "name": "stdout",
     "output_type": "stream",
     "text": [
      "ABC\n",
      "ACB\n",
      "BAC\n",
      "BCA\n",
      "CAB\n",
      "CBA\n"
     ]
    }
   ],
   "source": [
    "# Permutation of a given string\n",
    "from itertools import permutations\n",
    "def allperm(s):\n",
    "    p = permutations(s)\n",
    "    for i in list(p):\n",
    "        print(\"\".join(i))\n",
    "        \n",
    "allperm(\"ABC\")"
   ]
  },
  {
   "cell_type": "code",
   "execution_count": 13,
   "metadata": {
    "scrolled": true
   },
   "outputs": [
    {
     "name": "stdout",
     "output_type": "stream",
     "text": [
      "(1, 1, 1, 0, 0)\n",
      "(0, 1, 0, 0, 1)\n",
      "(1, 0, 1, 1, 0)\n"
     ]
    }
   ],
   "source": [
    "# Unique rows in a given boolean matrix\n",
    "\n",
    "def uniqueRows(a):\n",
    "    a = map(tuple, a)\n",
    "    res = set(a)\n",
    "    for i in res:\n",
    "        print(i)\n",
    "    \n",
    "a = [[0, 1, 0, 0, 1],\n",
    "     [1, 0, 1, 1, 0],\n",
    "     [0, 1, 0, 0, 1],\n",
    "     [1, 1, 1, 0, 0]]\n",
    "uniqueRows(a)"
   ]
  },
  {
   "cell_type": "code",
   "execution_count": 14,
   "metadata": {},
   "outputs": [
    {
     "name": "stdout",
     "output_type": "stream",
     "text": [
      "ab\n"
     ]
    }
   ],
   "source": [
    "# Remove all consequtive duplicates\n",
    "from itertools import groupby\n",
    "def removeConse(a):\n",
    "    res = []\n",
    "    for (key,group) in groupby(a):\n",
    "        res.append(key)\n",
    "    print(\"\".join(res))\n",
    "a = \"aaaaabbbbbb\"\n",
    "removeConse(a)"
   ]
  },
  {
   "cell_type": "code",
   "execution_count": 15,
   "metadata": {},
   "outputs": [
    {
     "name": "stdout",
     "output_type": "stream",
     "text": [
      "1 red 255\n",
      "2 green 256\n"
     ]
    }
   ],
   "source": [
    "# Iterate over multiple list\n",
    "num = [1,2,3]\n",
    "color = [\"red\", \"green\", \"blue\"]\n",
    "value = [255, 256]\n",
    "for (a,b,c) in zip(num,color,value):\n",
    "    print(a,b,c)"
   ]
  },
  {
   "cell_type": "code",
   "execution_count": 16,
   "metadata": {},
   "outputs": [
    {
     "name": "stdout",
     "output_type": "stream",
     "text": [
      "Intersection:  [3, 5]\n"
     ]
    }
   ],
   "source": [
    "#  Function to find intersection of two arrays\n",
    "\n",
    "def interSec( a, b):\n",
    "    res = list(filter(lambda x: x in a,b))\n",
    "    print(\"Intersection: \", res)\n",
    "\n",
    "a = [1, 3, 4, 5, 7]\n",
    "b = [2, 3, 5, 6]\n",
    "interSec(a,b)"
   ]
  },
  {
   "cell_type": "code",
   "execution_count": 17,
   "metadata": {},
   "outputs": [],
   "source": [
    "# Pattern Matching\n",
    "\n",
    "def search_n(a, b):\n",
    "    m = len(a)\n",
    "    n = len(b)\n",
    "    for i in range(n-m+1):\n",
    "        j = 0\n",
    "        while (j<m):\n",
    "            if (b[i+j]!=a[j]):\n",
    "                break\n",
    "            j += 1\n",
    "        if (j == m):\n",
    "            print(\"Pattern found at index:\",i)\n",
    "            \n",
    "if __name__=='__main__':\n",
    "    a = \"AABAACAADAABAAABAA\"\n",
    "    b = \"AABA\"\n",
    "    search_n(a,b)"
   ]
  },
  {
   "cell_type": "code",
   "execution_count": 18,
   "metadata": {},
   "outputs": [
    {
     "name": "stdout",
     "output_type": "stream",
     "text": [
      "Pattern found at index  0\n",
      "Pattern found at index  9\n",
      "Pattern found at index  13\n"
     ]
    }
   ],
   "source": [
    "def search(t, p):\n",
    "    m= len(t)\n",
    "    n = len(p)\n",
    "\n",
    "    for i in range(0,n-m + 1):\n",
    "        j = 0\n",
    "        while(j < m):\n",
    "            if (p[i + j] != t[j]):\n",
    "                break\n",
    "            j += 1\n",
    "\n",
    "        if (j == m):\n",
    "            print(\"Pattern found at index \", i)\n",
    "\n",
    "a = \"AABAACAADAABAAABAA\"\n",
    "b = \"AABA\"\n",
    "search(b, a)"
   ]
  },
  {
   "cell_type": "code",
   "execution_count": 19,
   "metadata": {},
   "outputs": [
    {
     "name": "stdout",
     "output_type": "stream",
     "text": [
      "[('akash', '24.541'), ('lucky', '18.265'), ('nikhil', '14.107'), ('gaurav', '10.365'), ('anand', '4.256')]\n"
     ]
    }
   ],
   "source": [
    "# Sort tuple using float element\n",
    "\n",
    "def sort_t(a):\n",
    "    return (sorted(a, key = lambda x: float(x[1]), reverse = True))\n",
    "\n",
    "a = [('lucky', '18.265'), ('nikhil', '14.107'), ('akash', '24.541'), \n",
    "    ('anand', '4.256'), ('gaurav', '10.365')]\n",
    "print(sort_t(a))"
   ]
  },
  {
   "cell_type": "code",
   "execution_count": 20,
   "metadata": {},
   "outputs": [
    {
     "name": "stdout",
     "output_type": "stream",
     "text": [
      "(1, 2, 3)\n"
     ]
    }
   ],
   "source": [
    "# Find tuple in the list\n",
    "\n",
    "def find_tuple(a):\n",
    "    for i in a:\n",
    "        if isinstance(i, tuple):\n",
    "            return i\n",
    "    return \"Not Found\"\n",
    "\n",
    "a = [4, 5, 6, 10, (1, 2, 3), 11, 2, 4]\n",
    "print(find_tuple(a))"
   ]
  },
  {
   "cell_type": "code",
   "execution_count": null,
   "metadata": {},
   "outputs": [],
   "source": []
  }
 ],
 "metadata": {
  "kernelspec": {
   "display_name": "Python 3",
   "language": "python",
   "name": "python3"
  },
  "language_info": {
   "codemirror_mode": {
    "name": "ipython",
    "version": 3
   },
   "file_extension": ".py",
   "mimetype": "text/x-python",
   "name": "python",
   "nbconvert_exporter": "python",
   "pygments_lexer": "ipython3",
   "version": "3.7.6"
  }
 },
 "nbformat": 4,
 "nbformat_minor": 4
}
