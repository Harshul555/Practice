{
 "cells": [
  {
   "cell_type": "code",
   "execution_count": 1,
   "metadata": {},
   "outputs": [
    {
     "name": "stdout",
     "output_type": "stream",
     "text": [
      "[7, 2, 3, 4, 5, 6, 1]\n"
     ]
    }
   ],
   "source": [
    "# Intercahnge first and last element of the list\n",
    "\n",
    "l1 = [1,2,3,4,5,6,7]\n",
    "l1[0], l1[-1] = l1[-1], l1[0]\n",
    "print(l1)\n"
   ]
  },
  {
   "cell_type": "code",
   "execution_count": 2,
   "metadata": {},
   "outputs": [
    {
     "name": "stdout",
     "output_type": "stream",
     "text": [
      "Sorted list: [2, 4, 6, 8, 1, 3, 7]\n"
     ]
    }
   ],
   "source": [
    "# For sorting list to get even elements in beginning of list and odd numbers at last of list \n",
    "\n",
    "l = [1,2,3,4,6,7,8]\n",
    "n = len(l)\n",
    "j = 0\n",
    "for i in range(n):\n",
    "    if l[i]%2 == 0:\n",
    "        l = l[:j] + l[i:i+1] + l[j:i] + l[i+1:]\n",
    "        j += 1\n",
    "print(\"Sorted list:\", l )"
   ]
  },
  {
   "cell_type": "code",
   "execution_count": 3,
   "metadata": {},
   "outputs": [
    {
     "name": "stdout",
     "output_type": "stream",
     "text": [
      "Created Linked List: \n",
      "2\n",
      "3\n",
      "1\n",
      "7\n",
      "\n",
      " Lisnked List after Deletion of 1:\n",
      "2\n",
      "3\n",
      "7\n"
     ]
    }
   ],
   "source": [
    "# linked list Implementation in Python\n",
    "\n",
    "class Node:\n",
    "    def __init__(self,data):\n",
    "        self.data = data # For nodes data element\n",
    "        self.next = None # For the next node\n",
    "        \n",
    "class LinkedList:\n",
    "    def __init__(self):\n",
    "        self.head = None\n",
    "    \n",
    "    def push(self, new_data):\n",
    "        new_node = Node(new_data)\n",
    "        new_node.next = self.head\n",
    "        self.head = new_node\n",
    "    \n",
    "    def deleteNode(self, key):\n",
    "        temp = self.head\n",
    "        if (temp is not None):\n",
    "            if (temp.data == key):\n",
    "                self.head = temp.next\n",
    "                temp = None\n",
    "                return\n",
    "            while (temp is not None):\n",
    "                if temp.data == key:\n",
    "                    break\n",
    "                prev = temp\n",
    "                temp = temp.next\n",
    "            \n",
    "            if (temp == None):\n",
    "                return\n",
    "            \n",
    "            prev.next = temp.next\n",
    "            temp = None\n",
    "    \n",
    "    def printList(self):\n",
    "        temp = self.head\n",
    "        while (temp):\n",
    "            print(temp.data)\n",
    "            temp = temp.next\n",
    "\n",
    "\n",
    "# Driver Program\n",
    "lst = LinkedList()\n",
    "lst.push(7)\n",
    "lst.push(1)\n",
    "lst.push(3)\n",
    "lst.push(2)\n",
    "\n",
    "print(\"Created Linked List: \")\n",
    "lst.printList()\n",
    "lst.deleteNode(1)\n",
    "print(\"\\n Lisnked List after Deletion of 1:\")\n",
    "lst.printList()"
   ]
  },
  {
   "cell_type": "code",
   "execution_count": 4,
   "metadata": {},
   "outputs": [
    {
     "name": "stdout",
     "output_type": "stream",
     "text": [
      "4\n",
      "2\n",
      "1\n",
      "3\n",
      "6\n",
      "5\n",
      "7\n"
     ]
    }
   ],
   "source": [
    "# Write a Python program to create a Balanced Binary Search Tree (BST)\n",
    "#using an array elements where array elements are sorted in ascending order\n",
    "class Node:\n",
    "    def __init__(self, key):\n",
    "        self.left = None\n",
    "        self.right = None\n",
    "        self.val = key\n",
    "        \n",
    "def sorted_array_to_bst(nums):\n",
    "    if not nums:\n",
    "        return None\n",
    "    m_val = len(nums)//2\n",
    "    node = Node(nums[m_val])\n",
    "    node.left = sorted_array_to_bst(nums[:m_val])\n",
    "    node.right = sorted_array_to_bst(nums[m_val+1:])\n",
    "    return node\n",
    "def preOrder(node):\n",
    "    if not node:\n",
    "        return\n",
    "    print(node.val)\n",
    "    preOrder(node.left)\n",
    "    preOrder(node.right)\n",
    "res = sorted_array_to_bst([1,2,3,4,5,6,7])\n",
    "preOrder(res)"
   ]
  },
  {
   "cell_type": "code",
   "execution_count": 5,
   "metadata": {},
   "outputs": [
    {
     "name": "stdout",
     "output_type": "stream",
     "text": [
      "15\n",
      "1\n"
     ]
    }
   ],
   "source": [
    "#Write a Python program to find the closest value of a given target value in a given non-empty Binary Search Tree (BST) of unique values\n",
    "\n",
    "class Node:\n",
    "    def __init__(self, key):\n",
    "        self.val = key\n",
    "        self.right = None\n",
    "        self.left = None\n",
    "def array_to_bst(nums):\n",
    "    if not nums:\n",
    "        return None\n",
    "    m_val = len(nums)//2\n",
    "    node = Node(nums[m_val])\n",
    "    node.left = array_to_bst(nums[:m_val])\n",
    "    node.right = array_to_bst(nums[m_val+1:])\n",
    "    return node\n",
    "def closest_value(root, target):\n",
    "    a = root.val\n",
    "    k = root.left if target < a else root.right\n",
    "    if not k:\n",
    "        return a\n",
    "    b = closest_value(k, target)\n",
    "    return min((a,b), key = lambda x: abs(target - x))\n",
    "res = array_to_bst([1,5,8,10,12,15,18,22,25])\n",
    "print(closest_value(res, 15))\n",
    "print(closest_value(res, 2))"
   ]
  },
  {
   "cell_type": "code",
   "execution_count": 6,
   "metadata": {},
   "outputs": [
    {
     "name": "stdout",
     "output_type": "stream",
     "text": [
      "True\n",
      "False\n"
     ]
    }
   ],
   "source": [
    "#Write a Python program to check whether a given a binary tree is a valid\n",
    "#binary search tree (BST) or not\n",
    "\n",
    "class Node():\n",
    "    def __init__(self, key):\n",
    "        self.val = key\n",
    "        self.right = None\n",
    "        self.left = None\n",
    "def array_to_bst(nums):\n",
    "    if not nums:\n",
    "        return None\n",
    "    m_val = len(nums)//2\n",
    "    node = Node(nums[m_val])\n",
    "    node.left = array_to_bst(nums[:m_val])\n",
    "    node.right = array_to_bst(nums[m_val+1:])\n",
    "    return node\n",
    "        \n",
    "def is_bst(root):\n",
    "    stack = []\n",
    "    prev = None\n",
    "    \n",
    "    while root or stack:\n",
    "        while root:\n",
    "            stack.append(root)\n",
    "            root = root.left\n",
    "        root = stack.pop()\n",
    "        if prev and root.val <= prev.val:\n",
    "            return False\n",
    "        prev = root\n",
    "        root = root.right\n",
    "    return True\n",
    "\n",
    "res1 = array_to_bst([1,2,3])\n",
    "print(is_bst(res1))\n",
    "\n",
    "res2 = array_to_bst([2,1,3])\n",
    "print(is_bst(res2))\n"
   ]
  },
  {
   "cell_type": "code",
   "execution_count": 7,
   "metadata": {},
   "outputs": [
    {
     "name": "stdout",
     "output_type": "stream",
     "text": [
      "Original node:\n",
      "5\n",
      "3\n",
      "2\n",
      "1\n",
      "4\n",
      "7\n",
      "6\n",
      "8\n",
      "None\n",
      "After deletion of specified node: \n",
      "5\n",
      "3\n",
      "2\n",
      "1\n",
      "7\n",
      "6\n",
      "8\n",
      "None\n"
     ]
    }
   ],
   "source": [
    "# Write a Python program to delete a node with the given key in a given\n",
    "# Binary search tree (BST)\n",
    "class Node():\n",
    "    def __init__(self, key):\n",
    "        self.val = key\n",
    "        self.right = None\n",
    "        self.left = None\n",
    "\n",
    "def array_to_bst(nums):\n",
    "    if not nums:\n",
    "        return None\n",
    "    m_val = len(nums)//2\n",
    "    node = Node(nums[m_val])\n",
    "    node.left = array_to_bst(nums[:m_val])\n",
    "    node.right = array_to_bst(nums[m_val+1:])\n",
    "    return node\n",
    "\n",
    "def del_node(root, key):\n",
    "    if not root:\n",
    "        return root\n",
    "    \n",
    "    if root.val > key:\n",
    "        root.left = del_node(root.left, key)\n",
    "    elif root.val < key:\n",
    "        root.right = del_node(root.right, key)\n",
    "    else:\n",
    "        if not root.right:\n",
    "            return root.left\n",
    "        if not root.left:\n",
    "            return root.right\n",
    "        \n",
    "        temp = root.right\n",
    "        mini = temp.val\n",
    "        while temp.left:\n",
    "            temp = temp.left\n",
    "            mini = temp.val\n",
    "        root.right = del_node(root.right, root.val)\n",
    "    \n",
    "    return root\n",
    "\n",
    "def preOrder(node):\n",
    "    if not node:\n",
    "        return\n",
    "    print(node.val)\n",
    "    preOrder(node.left)\n",
    "    preOrder(node.right)\n",
    "    \n",
    "root = array_to_bst([1,2,3,4,5,6,7,8])\n",
    "print(\"Original node:\")\n",
    "print(preOrder(root))\n",
    "\n",
    "res = del_node(root, 4)\n",
    "print(\"After deletion of specified node: \")\n",
    "print(preOrder(res))\n",
    "        "
   ]
  },
  {
   "cell_type": "code",
   "execution_count": 8,
   "metadata": {},
   "outputs": [
    {
     "name": "stdout",
     "output_type": "stream",
     "text": [
      "Hello1\n",
      "Hello2\n",
      "Hello3\n"
     ]
    }
   ],
   "source": [
    "# Using Generator functions in python\n",
    "def call_count(s):\n",
    "    yield s+str(1)\n",
    "    yield s+str(2)\n",
    "    yield s+str(3)\n",
    "    \n",
    "for v in call_count(\"Hello\"):\n",
    "    print(v)"
   ]
  },
  {
   "cell_type": "code",
   "execution_count": 9,
   "metadata": {},
   "outputs": [
    {
     "name": "stdout",
     "output_type": "stream",
     "text": [
      "('countdown', 0.0)\n",
      "('countdown', 0.0019922256469726562)\n"
     ]
    }
   ],
   "source": [
    "# Using Wrapper Functions\n",
    "\n",
    "import time\n",
    "\n",
    "def timeis(func):\n",
    "    def wrap(*args, **kwargs):\n",
    "        start = time.time()\n",
    "        result = func(*args, **kwargs)\n",
    "        end = time.time()\n",
    "        \n",
    "        print((func.__name__, end-start))\n",
    "    return wrap\n",
    "\n",
    "@timeis\n",
    "def countdown(n):\n",
    "    while n>0:\n",
    "        n -= 1\n",
    "        \n",
    "countdown(5)\n",
    "countdown(10000)"
   ]
  },
  {
   "cell_type": "code",
   "execution_count": 10,
   "metadata": {},
   "outputs": [
    {
     "data": {
      "text/html": [
       "<div>\n",
       "<style scoped>\n",
       "    .dataframe tbody tr th:only-of-type {\n",
       "        vertical-align: middle;\n",
       "    }\n",
       "\n",
       "    .dataframe tbody tr th {\n",
       "        vertical-align: top;\n",
       "    }\n",
       "\n",
       "    .dataframe thead tr th {\n",
       "        text-align: left;\n",
       "    }\n",
       "\n",
       "    .dataframe thead tr:last-of-type th {\n",
       "        text-align: right;\n",
       "    }\n",
       "</style>\n",
       "<table border=\"1\" class=\"dataframe\">\n",
       "  <thead>\n",
       "    <tr>\n",
       "      <th></th>\n",
       "      <th colspan=\"4\" halign=\"left\">A</th>\n",
       "    </tr>\n",
       "    <tr>\n",
       "      <th>C</th>\n",
       "      <th>21</th>\n",
       "      <th>23</th>\n",
       "      <th>24</th>\n",
       "      <th>27</th>\n",
       "    </tr>\n",
       "    <tr>\n",
       "      <th>B</th>\n",
       "      <th></th>\n",
       "      <th></th>\n",
       "      <th></th>\n",
       "      <th></th>\n",
       "    </tr>\n",
       "  </thead>\n",
       "  <tbody>\n",
       "    <tr>\n",
       "      <th>Graduate</th>\n",
       "      <td>Mina</td>\n",
       "      <td>Boby</td>\n",
       "      <td>Nicky</td>\n",
       "      <td>NaN</td>\n",
       "    </tr>\n",
       "    <tr>\n",
       "      <th>Masters</th>\n",
       "      <td>NaN</td>\n",
       "      <td>Peter</td>\n",
       "      <td>NaN</td>\n",
       "      <td>John</td>\n",
       "    </tr>\n",
       "  </tbody>\n",
       "</table>\n",
       "</div>"
      ],
      "text/plain": [
       "             A                    \n",
       "C           21     23     24    27\n",
       "B                                 \n",
       "Graduate  Mina   Boby  Nicky   NaN\n",
       "Masters    NaN  Peter    NaN  John"
      ]
     },
     "execution_count": 10,
     "metadata": {},
     "output_type": "execute_result"
    }
   ],
   "source": [
    "# Pivot Table\n",
    "\n",
    "import numpy as np\n",
    "import pandas as pd\n",
    "\n",
    "df = pd.DataFrame({'A': ['John', 'Boby', 'Mina', 'Peter', 'Nicky'],\n",
    "      'B': ['Masters', 'Graduate', 'Graduate', 'Masters', 'Graduate'],\n",
    "      'C': [27, 23, 21, 23, 24]})\n",
    "table = pd.pivot_table(df, index = ['B'],\n",
    "                      columns = ['C'], aggfunc = np.sum)\n",
    "table"
   ]
  },
  {
   "cell_type": "code",
   "execution_count": 11,
   "metadata": {},
   "outputs": [
    {
     "name": "stdout",
     "output_type": "stream",
     "text": [
      "6\n",
      "41\n"
     ]
    }
   ],
   "source": [
    "# lambda function with varing argument count\n",
    "\n",
    "x = lambda *a: sum(a)\n",
    "print(x(1,2,3))\n",
    "print(x(4,8,7,8,9,5))"
   ]
  },
  {
   "cell_type": "code",
   "execution_count": 12,
   "metadata": {},
   "outputs": [
    {
     "name": "stdout",
     "output_type": "stream",
     "text": [
      "[5]\n",
      "[3]\n"
     ]
    }
   ],
   "source": [
    "# N-1 left and right Array rotations based on X and on each rotation \n",
    "# remove the last element from the array\n",
    "\n",
    "a = [1,2,3,4,5]\n",
    "x = 0\n",
    "if (x==0): # Left-Rotate\n",
    "    n = len(a)\n",
    "    for i in range(n-1):\n",
    "        a = a[1:] + a[:1]\n",
    "        a.pop()\n",
    "    print(a)\n",
    "\n",
    "a = [1,2,3,4,5]\n",
    "x = 1    \n",
    "if (x==1): # Right Rotate\n",
    "    n = len(a)\n",
    "    for i in range(n-1):\n",
    "        a = a[-1:] + a[:-1]\n",
    "        a.pop()\n",
    "    print(a)\n",
    "    \n"
   ]
  },
  {
   "cell_type": "code",
   "execution_count": 13,
   "metadata": {},
   "outputs": [
    {
     "name": "stdout",
     "output_type": "stream",
     "text": [
      "Sorted Array: \n",
      "[1, 2, 2, 3, 4, 6, 54, 66]\n"
     ]
    }
   ],
   "source": [
    "# Selection Sort\n",
    "\n",
    "a = [1,2,4,2,3,54,6,66]\n",
    "n = len(a)\n",
    "for i in range(n):\n",
    "    min_i = i\n",
    "    for j in range(i+1, n):\n",
    "        if a[min_i]>a[j]:\n",
    "            min_i = j\n",
    "    a[min_i], a[i] = a[i], a[min_i]\n",
    "    \n",
    "print(\"Sorted Array: \")\n",
    "print(a)\n",
    "\n",
    "# Complexity: O(n^2)\n",
    "# Auxiliary Space: O(1)\n",
    "# Advantages: never makes more than O(n) swaps and can be useful\n",
    "#  when memory write is a costly operation\n",
    "# It is not stable"
   ]
  },
  {
   "cell_type": "code",
   "execution_count": 14,
   "metadata": {},
   "outputs": [
    {
     "name": "stdout",
     "output_type": "stream",
     "text": [
      "[1, 2, 4, 4, 5, 5, 8, 9]\n"
     ]
    }
   ],
   "source": [
    "# Stable Selection Sort\n",
    "def stable_sel_sort(a, n):\n",
    "    for i in range(n):\n",
    "        min_i = i\n",
    "        for j in range(i+1, n):\n",
    "            if a[min_i] > a[j]:\n",
    "                min_i = j\n",
    "            \n",
    "        key = a[min_i]\n",
    "        while min_i > i:\n",
    "            a[min_i] = a[min_i - 1]\n",
    "            min_i -= 1\n",
    "        a[i] = key\n",
    "a = [4,5,8,9,1,2,4,5]\n",
    "n = len(a)\n",
    "stable_sel_sort(a,n)\n",
    "print(a)\n"
   ]
  },
  {
   "cell_type": "code",
   "execution_count": 15,
   "metadata": {},
   "outputs": [
    {
     "name": "stdout",
     "output_type": "stream",
     "text": [
      "[1, 2, 2, 3, 4, 6, 54, 66]\n"
     ]
    }
   ],
   "source": [
    "# Bubble Sort\n",
    "\n",
    "def bubble_sort(a, n):\n",
    "    for i in range(n):\n",
    "        swapped = False\n",
    "        for j in range(0, n-i-1):\n",
    "            if a[j] > a[j+1]:\n",
    "                a[j], a[j+1] = a[j+1], a[j]\n",
    "                swapped = True\n",
    "        if swapped == False:\n",
    "            break\n",
    "\n",
    "a = [1,2,4,2,3,54,6,66]\n",
    "n = len(a)\n",
    "bubble_sort(a,n)\n",
    "print(a)\n",
    "\n",
    "# Worst case Complexity = O(n^2)\n",
    "# Best Case Complexity = O(n)\n",
    "# Auxillary Space = O(1)\n",
    "# Boundary case: bubble sort takes minimum time (O(n)) when\n",
    "#  elements are already sorted\n",
    "# Sorting is in place\n",
    "# It is stable"
   ]
  },
  {
   "cell_type": "code",
   "execution_count": 16,
   "metadata": {},
   "outputs": [
    {
     "name": "stdout",
     "output_type": "stream",
     "text": [
      "[1, 2, 2, 3, 4, 6, 54, 66]\n"
     ]
    }
   ],
   "source": [
    "# Recursive Bubble Sort\n",
    "\n",
    "# Bubble Sort\n",
    "\n",
    "def rec_bubble_sort(a, n):\n",
    "    if n==1:\n",
    "        return\n",
    "    for i in range(n-1):\n",
    "        if a[i] > a[i+1]:\n",
    "            a[i], a[i+1] = a[i+1], a[i]\n",
    "    rec_bubble_sort(a, n-1)\n",
    "    \n",
    "a = [1,2,4,2,3,54,6,66]\n",
    "n = len(a)\n",
    "rec_bubble_sort(a,n)\n",
    "print(a)\n"
   ]
  },
  {
   "cell_type": "code",
   "execution_count": 17,
   "metadata": {},
   "outputs": [
    {
     "name": "stdout",
     "output_type": "stream",
     "text": [
      "[1, 2, 2, 3, 4, 6, 54, 66]\n"
     ]
    }
   ],
   "source": [
    "# Insertion Sort\n",
    "\n",
    "def in_sort(a, n):\n",
    "    for i in range(n):\n",
    "        key = a[i]\n",
    "        j = i-1\n",
    "        while j >= 0 and key < a[j]:\n",
    "            a[j+1] = a[j]\n",
    "            j -= 1\n",
    "        a[j+1] = key\n",
    "\n",
    "        \n",
    "a = [1,2,4,2,3,54,6,66]\n",
    "n = len(a)\n",
    "in_sort(a,n)\n",
    "print(a)\n",
    "\n",
    "# Best Case : O(n)\n",
    "# Worst Case : O(n^2)\n",
    "# Boundary Case: max time in case of reverse sorted array and \n",
    "#   min time in case of sorted array\n",
    "# Algorithmic Paradigm: Incremental Approach\n",
    "# In Place: Yes\n",
    "# Stable: Yes\n",
    "# Uses: when array is small or when only few elements need to \n",
    "# be positioned"
   ]
  },
  {
   "cell_type": "code",
   "execution_count": 18,
   "metadata": {},
   "outputs": [
    {
     "name": "stdout",
     "output_type": "stream",
     "text": [
      "[1, 1, 2, 3, 4, 5, 8, 55]\n"
     ]
    }
   ],
   "source": [
    "# Binary Insertion Sort\n",
    "def binary_search(s, e ,a, key):\n",
    "    if s == e:\n",
    "        if a[s]> key:\n",
    "            return s\n",
    "        else:\n",
    "            return s+1\n",
    "        \n",
    "    if s > e:\n",
    "        return s\n",
    "    m = (s+e)//2\n",
    "    if a[m] < key:\n",
    "        return binary_search(m+1 , e, a, key)\n",
    "    elif a[m] > key:\n",
    "        return binary_search(s, m-1, a, key)\n",
    "    else:\n",
    "        return m\n",
    "    \n",
    "def bin_in_sort(a, n):\n",
    "    for i in range(1, n):\n",
    "        val = a[i]\n",
    "        j = binary_search(0, i-1, a , val)\n",
    "        a = a[:j] + [val] + a[j:i] + a[i+1:]\n",
    "    return a\n",
    "\n",
    "a = [2,1,3,4,1,8,55,5]\n",
    "print(bin_in_sort(a, len(a)))"
   ]
  },
  {
   "cell_type": "code",
   "execution_count": 19,
   "metadata": {},
   "outputs": [
    {
     "name": "stdout",
     "output_type": "stream",
     "text": [
      "[1, 1, 2, 3, 4, 5, 8, 55]\n"
     ]
    }
   ],
   "source": [
    "# Recursive Insertion Sort\n",
    "\n",
    "def ins_sort_rec(a, n):\n",
    "    if n <= 1:\n",
    "        return \n",
    "    ins_sort_rec(a, n-1)\n",
    "    \n",
    "    last = a[n-1]\n",
    "    j = n-2\n",
    "    \n",
    "    while ( j>=0 and a[j]>last ):\n",
    "        a[j+1] = a[j]\n",
    "        j = j-1\n",
    "    a[j+1] = last\n",
    "    \n",
    "a = [2,1,3,4,1,8,55,5]\n",
    "ins_sort_rec(a, len(a))\n",
    "print(a)"
   ]
  },
  {
   "cell_type": "code",
   "execution_count": 20,
   "metadata": {},
   "outputs": [
    {
     "name": "stdout",
     "output_type": "stream",
     "text": [
      "[2, 4, 5, 6, 8, 12, 25]\n"
     ]
    }
   ],
   "source": [
    "# Merge Sort\n",
    "\n",
    "def mergeSort(a):\n",
    "    if len(a) > 1:\n",
    "        m = len(a)//2\n",
    "        L = a[:m]\n",
    "        R = a[m:]\n",
    "        mergeSort(L)\n",
    "        mergeSort(R)\n",
    "        i = j = k = 0\n",
    "        \n",
    "        while i < len(L) and j < len(R):\n",
    "            if L[i] < R[j]:\n",
    "                a[k] = L[i]\n",
    "                i += 1\n",
    "            else:\n",
    "                a[k] = R[j]\n",
    "                j += 1\n",
    "            k += 1\n",
    "            \n",
    "        while i < len(L):\n",
    "            a[k] = L[i]\n",
    "            i += 1\n",
    "            k += 1\n",
    "            \n",
    "        while j < len(R):\n",
    "            a[k] = R[j]\n",
    "            j += 1\n",
    "            k += 1\n",
    "            \n",
    "a = [25,4,12,8,5,6,2]\n",
    "mergeSort(a)\n",
    "print(a)\n",
    "\n",
    "\n",
    "# Recurance Relation: 2T(n/2) + 0(n)\n",
    "# Best Case : O(nlogn)\n",
    "# Worst Case : O(nlogn)\n",
    "# Auxilary Space: O(n)\n",
    "# Algorithmic Paradigm: Divide and Conquer\n",
    "# In Place: No\n",
    "# Stable: Yes\n",
    "# Uses: for sorting linked lists in O(nLogn) time"
   ]
  },
  {
   "cell_type": "code",
   "execution_count": 21,
   "metadata": {},
   "outputs": [
    {
     "name": "stdout",
     "output_type": "stream",
     "text": [
      "[3, 5, 6, 7, 7, 8, 13]\n"
     ]
    }
   ],
   "source": [
    "# Quick-Sort\n",
    "def partition(start, end, a):\n",
    "    pivot_index = start\n",
    "    pivot = a[pivot_index]\n",
    "    \n",
    "    while start < end:\n",
    "        while start < len(a) and a[start] <= pivot:\n",
    "            start += 1\n",
    "            \n",
    "        while a[end] > pivot:\n",
    "            end -= 1\n",
    "            \n",
    "        if (start < end):\n",
    "            a[start], a[end] = a[end], a[start]\n",
    "            \n",
    "    a[end], a[pivot_index] = a[pivot_index], a[end]\n",
    "    \n",
    "    return end\n",
    "def quick_sort(start, end, a):\n",
    "    if (start < end):\n",
    "        p = partition(start, end, a)\n",
    "        quick_sort(start, p-1, a)\n",
    "        quick_sort(p+1, end, a)\n",
    "    \n",
    "a = [13,8,3,7,6,5,7]\n",
    "quick_sort(0, len(a)-1,a)\n",
    "print(a)\n",
    "# Recurance Relation: T(k) + T(n-k-1) + 0(n)\n",
    "# Best Case : O(nlogn)\n",
    "# Worst Case : O(n^2)\n",
    "# Algorithmic Paradigm: Divide and Conquer\n",
    "# In Place: Yes\n",
    "# Stable: Not\n",
    "# Uses: for sorting arrays"
   ]
  },
  {
   "cell_type": "code",
   "execution_count": 22,
   "metadata": {},
   "outputs": [
    {
     "data": {
      "text/plain": [
       "'Found'"
      ]
     },
     "execution_count": 22,
     "metadata": {},
     "output_type": "execute_result"
    }
   ],
   "source": [
    "#Binary Search\n",
    "def binary_search(arr, key, start, end):\n",
    "    if start <= end:\n",
    "        mid = (start+end)//2\n",
    "        if arr[mid]== key:\n",
    "            return \"Found\"\n",
    "        elif key > arr[mid]:\n",
    "            return binary_search(arr, key, mid+1, end)\n",
    "        elif key < arr[mid]:\n",
    "            return binary_search(arr, key, start, mid-1)\n",
    "    else:\n",
    "        return \"Not Found\"\n",
    "a = [1,2,3,4]            \n",
    "binary_search(a, 1, 0, len(a)-1)"
   ]
  },
  {
   "cell_type": "code",
   "execution_count": 23,
   "metadata": {},
   "outputs": [
    {
     "name": "stdout",
     "output_type": "stream",
     "text": [
      "5\n",
      "4\n",
      "3\n",
      "2\n",
      "1\n",
      "\n",
      "After reversal:\n",
      "1\n",
      "2\n",
      "3\n",
      "4\n",
      "5\n"
     ]
    }
   ],
   "source": [
    "# Reverse a linked list\n",
    "\n",
    "class Node:\n",
    "    def __init__(self, data):\n",
    "        self.data = data\n",
    "        self.next = None\n",
    "        \n",
    "class LinkedList:\n",
    "    def __init__(self):\n",
    "        self.head = None\n",
    "    def reverse(self):\n",
    "        prev = None\n",
    "        current = self.head\n",
    "        while current:\n",
    "            temp = current.next\n",
    "            current.next = prev\n",
    "            prev = current\n",
    "            current = temp\n",
    "        self.head = prev\n",
    "    def push(self, new_data):\n",
    "        new_node = Node(new_data)\n",
    "        new_node.next = self.head\n",
    "        self.head = new_node\n",
    "        \n",
    "    def printList(self):\n",
    "        temp = self.head\n",
    "        while(temp):\n",
    "            print(temp.data)\n",
    "            temp = temp.next\n",
    "            \n",
    "l1 = LinkedList()\n",
    "l1.push(1)\n",
    "l1.push(2)\n",
    "l1.push(3)\n",
    "l1.push(4)\n",
    "l1.push(5)\n",
    "l1.printList()\n",
    "print(\"\\nAfter reversal:\")\n",
    "l1.reverse()\n",
    "l1.printList()\n"
   ]
  },
  {
   "cell_type": "code",
   "execution_count": 24,
   "metadata": {},
   "outputs": [
    {
     "name": "stdout",
     "output_type": "stream",
     "text": [
      "['60', '548', '546', '54']\n"
     ]
    },
    {
     "data": {
      "text/plain": [
       "'6054854654'"
      ]
     },
     "execution_count": 24,
     "metadata": {},
     "output_type": "execute_result"
    }
   ],
   "source": [
    "#Arrange given numbers to form the biggest number\n",
    "a = [54, 546, 548, 60]\n",
    "for i in range(len(a)):\n",
    "    a[i] = str(a[i])\n",
    "b = a[:]\n",
    "m = 0\n",
    "for i in a:\n",
    "    if len(i)>m:\n",
    "        m = len(i)\n",
    "\n",
    "a = sorted(a, key = lambda x: int((str(x)*(m))[:m]), reverse = True)\n",
    "print(a)\n",
    "\"\".join(a)"
   ]
  },
  {
   "cell_type": "code",
   "execution_count": 25,
   "metadata": {},
   "outputs": [
    {
     "name": "stdout",
     "output_type": "stream",
     "text": [
      "6054854654\n"
     ]
    }
   ],
   "source": [
    "# Using itertools\n",
    "from itertools import permutations\n",
    "def largest(l):\n",
    "    lst = []\n",
    "    for i in permutations(l, len(l)):\n",
    "        lst.append(\"\".join(map(str, i)))\n",
    "    return max(lst)\n",
    "print(largest([54, 546, 548, 60]))"
   ]
  },
  {
   "cell_type": "code",
   "execution_count": 26,
   "metadata": {},
   "outputs": [
    {
     "name": "stdout",
     "output_type": "stream",
     "text": [
      "Sorted Array\n",
      "[1, 1, 2, 4, 4, 5, 6]\n"
     ]
    }
   ],
   "source": [
    "# Heap Sort\n",
    "\n",
    "def heapify(arr, n, i):\n",
    "    largest = i\n",
    "    l = 2*i+1\n",
    "    r = 2*i+2\n",
    "    \n",
    "    if l<n and arr[largest] < arr[l]:\n",
    "        largest = l\n",
    "        \n",
    "    if r< n and arr[largest] < arr[r]:\n",
    "        largest = r\n",
    "        \n",
    "    if largest != i:\n",
    "        arr[i], arr[largest] = arr[largest], arr[i]\n",
    "        heapify(arr, n, largest)\n",
    "    \n",
    "def heapSort(arr):\n",
    "    n = len(arr)\n",
    "    \n",
    "    for i in range(n//2 -1, -1, -1):\n",
    "        heapify(arr, n, i)\n",
    "        \n",
    "    for i in range(n-1, 0, -1):\n",
    "        arr[i], arr[0] = arr[0], arr[i]\n",
    "        heapify(arr, i, 0)\n",
    "        \n",
    "        \n",
    "arr = [2,1,4,1,4,5,6]\n",
    "heapSort(arr)\n",
    "print(\"Sorted Array\")\n",
    "print(arr)\n",
    "\n",
    "# Best Case : O(nlogn)\n",
    "# Worst Case : O(nLogn)\n",
    "# In Place: Yes\n",
    "# Stable: Not\n",
    "# Uses: for sorting arrays"
   ]
  },
  {
   "cell_type": "code",
   "execution_count": 27,
   "metadata": {},
   "outputs": [
    {
     "name": "stdout",
     "output_type": "stream",
     "text": [
      "Sorted array:  1244455789\n"
     ]
    }
   ],
   "source": [
    "# Counting Sort\n",
    "\n",
    "def count_Sort(a):\n",
    "    out = [0 for i in range(len(a))]\n",
    "    \n",
    "    count = [0 for i in range(256)]\n",
    "    \n",
    "    ans = [\"\" for i in a]\n",
    "    \n",
    "    for i in a:\n",
    "        count[ord(i)] += 1\n",
    "        \n",
    "    for i in range(256):\n",
    "        count[i] += count[i-1]\n",
    "        \n",
    "    for i in range(len(a)):\n",
    "        out[count[ord(a[i])]-1] = a[i]\n",
    "        count[ord(a[i])] -= 1\n",
    "        \n",
    "    for i in range(len(a)):\n",
    "        ans[i] = out[i]\n",
    "    return ans\n",
    "a = \"5421789445\"\n",
    "ans = count_Sort(a)\n",
    "print(\"Sorted array: \", \"\".join(ans))"
   ]
  },
  {
   "cell_type": "code",
   "execution_count": null,
   "metadata": {},
   "outputs": [],
   "source": []
  }
 ],
 "metadata": {
  "kernelspec": {
   "display_name": "Python 3",
   "language": "python",
   "name": "python3"
  },
  "language_info": {
   "codemirror_mode": {
    "name": "ipython",
    "version": 3
   },
   "file_extension": ".py",
   "mimetype": "text/x-python",
   "name": "python",
   "nbconvert_exporter": "python",
   "pygments_lexer": "ipython3",
   "version": "3.7.6"
  }
 },
 "nbformat": 4,
 "nbformat_minor": 4
}
