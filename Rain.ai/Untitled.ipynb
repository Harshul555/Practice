{
 "cells": [
  {
   "cell_type": "code",
   "execution_count": 2,
   "metadata": {
    "scrolled": true
   },
   "outputs": [
    {
     "ename": "AssertionError",
     "evalue": "a is not larger than b",
     "output_type": "error",
     "traceback": [
      "\u001b[1;31m---------------------------------------------------------------------------\u001b[0m",
      "\u001b[1;31mAssertionError\u001b[0m                            Traceback (most recent call last)",
      "\u001b[1;32m<ipython-input-2-af061bff0c2c>\u001b[0m in \u001b[0;36m<module>\u001b[1;34m\u001b[0m\n\u001b[0;32m      3\u001b[0m \u001b[0ma\u001b[0m \u001b[1;33m=\u001b[0m \u001b[1;36m4\u001b[0m\u001b[1;33m\u001b[0m\u001b[1;33m\u001b[0m\u001b[0m\n\u001b[0;32m      4\u001b[0m \u001b[0mb\u001b[0m \u001b[1;33m=\u001b[0m \u001b[1;36m5\u001b[0m\u001b[1;33m\u001b[0m\u001b[1;33m\u001b[0m\u001b[0m\n\u001b[1;32m----> 5\u001b[1;33m \u001b[1;32massert\u001b[0m \u001b[0ma\u001b[0m \u001b[1;33m>\u001b[0m \u001b[0mb\u001b[0m\u001b[1;33m,\u001b[0m \u001b[1;34m\"a is not larger than b\"\u001b[0m\u001b[1;33m\u001b[0m\u001b[1;33m\u001b[0m\u001b[0m\n\u001b[0m",
      "\u001b[1;31mAssertionError\u001b[0m: a is not larger than b"
     ]
    }
   ],
   "source": [
    "# Assert Keyword\n",
    "\n",
    "a = 4\n",
    "b = 5\n",
    "assert a > b, \"a is not larger than b\""
   ]
  },
  {
   "cell_type": "code",
   "execution_count": 5,
   "metadata": {
    "scrolled": true
   },
   "outputs": [
    {
     "name": "stdout",
     "output_type": "stream",
     "text": [
      "[1, 2, 3, 4, 5, 6]\n",
      "[2, 4, 5, 6]\n"
     ]
    }
   ],
   "source": [
    "# del and remove key-word\n",
    "\n",
    "a = [1,2,3,4,5,6]\n",
    "print(a)\n",
    "a.remove(1)\n",
    "del(a[1])\n",
    "print(a)"
   ]
  },
  {
   "cell_type": "code",
   "execution_count": 6,
   "metadata": {},
   "outputs": [
    {
     "name": "stdout",
     "output_type": "stream",
     "text": [
      "5.0\n",
      "2.5\n",
      "List contains a zero\n",
      "List traversed\n"
     ]
    }
   ],
   "source": [
    "# Exception handling\n",
    "a = [1,2,0,4]\n",
    "try:\n",
    "    for i in a:\n",
    "        print(5/i)\n",
    "except ZeroDivisionError:\n",
    "    print(\"List contains a zero\")\n",
    "else:\n",
    "    print(\"List doesnot contain a zero\")\n",
    "finally:\n",
    "    print(\"List traversed\")"
   ]
  },
  {
   "cell_type": "code",
   "execution_count": null,
   "metadata": {},
   "outputs": [],
   "source": []
  },
  {
   "cell_type": "code",
   "execution_count": 7,
   "metadata": {},
   "outputs": [
    {
     "name": "stdout",
     "output_type": "stream",
     "text": [
      "0\n",
      "1\n",
      "1\n",
      "2\n",
      "3\n"
     ]
    }
   ],
   "source": [
    "# Fibonnaci using Generator\n",
    "def fun(n):\n",
    "    f =0 \n",
    "    s =1\n",
    "    yield f\n",
    "    yield s\n",
    "    for i in range(2,n):\n",
    "        t=  f+s\n",
    "        f = s\n",
    "        s = t\n",
    "        yield t\n",
    "for i in fun(5):\n",
    "    print(i)"
   ]
  },
  {
   "cell_type": "code",
   "execution_count": 2,
   "metadata": {},
   "outputs": [
    {
     "name": "stdout",
     "output_type": "stream",
     "text": [
      "Value using non-local keyword\n",
      "10\n",
      "Value without using non-local\n",
      "5\n"
     ]
    }
   ],
   "source": [
    "# non-local\n",
    "\n",
    "def outer():\n",
    "    a = 5\n",
    "    def inner():\n",
    "        nonlocal a \n",
    "        a = 10\n",
    "        \n",
    "    inner()\n",
    "    print(a)\n",
    "print(\"Value using non-local keyword\")\n",
    "outer()\n",
    "def outer():\n",
    "    a = 5\n",
    "    def inner(): \n",
    "        a = 10\n",
    "        \n",
    "    inner()\n",
    "    print(a)\n",
    "print(\"Value without using non-local\")\n",
    "outer()"
   ]
  },
  {
   "cell_type": "code",
   "execution_count": 1,
   "metadata": {},
   "outputs": [
    {
     "name": "stdout",
     "output_type": "stream",
     "text": [
      "False\n"
     ]
    }
   ],
   "source": [
    "# Using short-hand if-else statement\n",
    "\n",
    "a = 5\n",
    "print(\"True\") if a>6 else print(\"False\")"
   ]
  },
  {
   "cell_type": "code",
   "execution_count": null,
   "metadata": {},
   "outputs": [],
   "source": []
  }
 ],
 "metadata": {
  "kernelspec": {
   "display_name": "Python 3",
   "language": "python",
   "name": "python3"
  },
  "language_info": {
   "codemirror_mode": {
    "name": "ipython",
    "version": 3
   },
   "file_extension": ".py",
   "mimetype": "text/x-python",
   "name": "python",
   "nbconvert_exporter": "python",
   "pygments_lexer": "ipython3",
   "version": "3.7.6"
  }
 },
 "nbformat": 4,
 "nbformat_minor": 4
}
