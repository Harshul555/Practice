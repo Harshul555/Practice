{
 "cells": [
  {
   "cell_type": "markdown",
   "metadata": {},
   "source": [
    "## Sliding Window Pattern"
   ]
  },
  {
   "cell_type": "code",
   "execution_count": 33,
   "metadata": {},
   "outputs": [
    {
     "name": "stdout",
     "output_type": "stream",
     "text": [
      "Enter the array: 1 1 6\n",
      "Enter the required sum: 10\n",
      "The minimum length of sub-array required: -1\n"
     ]
    }
   ],
   "source": [
    "# Smallest Contiguous Sub-Array\n",
    "def solve(arr, key):\n",
    "    n = len(arr)\n",
    "    ws = we = wsum = 0\n",
    "    minL = n+1\n",
    "    for we in range(0,n):\n",
    "        wsum += arr[we]\n",
    "        while (wsum >= key):\n",
    "            minL = min(minL, we-ws+1)\n",
    "            wsum = wsum - arr[ws]\n",
    "            ws += 1\n",
    "    return minL\n",
    "arr = list(map(int, input(\"Enter the array: \").split()))\n",
    "key = int(input(\"Enter the required sum: \"))\n",
    "print(\"The minimum length of sub-array required: \",end=\"\")\n",
    "result = solve(arr, key)\n",
    "if result > len(arr):\n",
    "    print(-1)\n",
    "else:\n",
    "    print(result)"
   ]
  },
  {
   "cell_type": "code",
   "execution_count": 10,
   "metadata": {},
   "outputs": [
    {
     "name": "stdout",
     "output_type": "stream",
     "text": [
      "araa\n",
      "araaci\n"
     ]
    }
   ],
   "source": [
    "# Longest substring with no more than k-distinct characters\n",
    "\n",
    "def val_unique(count, k):\n",
    "    val = 0\n",
    "    for i in range(26):\n",
    "        if count[i]>0:\n",
    "            val += 1\n",
    "    return val<=k\n",
    "\n",
    "def max_substring(s, k):\n",
    "    ws = we = 0\n",
    "    count = [0]*(26)\n",
    "    u = 0\n",
    "    n = len(s)\n",
    "    for i in range(n):\n",
    "        if count[ord(s[i])-ord('a')] == 0:\n",
    "            u += 1\n",
    "        count[ord(s[i])-ord('a')] += 1\n",
    "        \n",
    "    if u<k:\n",
    "        return \"Such string not possible\"\n",
    "    \n",
    "    count = [0]*26\n",
    "    max_l = 1\n",
    "    max_s = ws\n",
    "    count[ord(s[ws]) - ord('a')] += 1\n",
    "    for i in range(1, n):\n",
    "        count[ord(s[i])-ord('a')] += 1\n",
    "        we += 1\n",
    "        while val_unique(count, k) == False:\n",
    "            count[ord(s[ws]) - ord('a')] -= 1\n",
    "            ws += 1\n",
    "        if max_l < (we-ws+1):\n",
    "            max_l = we-ws+1\n",
    "            max_s = ws\n",
    "    return s[max_s:max_s+max_l]\n",
    "        \n",
    "\n",
    "a = 'araaci'\n",
    "print(max_substring(a, 2))\n",
    "print(max_substring(a, 4))"
   ]
  },
  {
   "cell_type": "code",
   "execution_count": 24,
   "metadata": {},
   "outputs": [
    {
     "name": "stdout",
     "output_type": "stream",
     "text": [
      "3\n"
     ]
    }
   ],
   "source": [
    "def max_substring(s):\n",
    "    ws = we = 0\n",
    "    count = {}\n",
    "    u = 0\n",
    "    n = len(s)\n",
    "    max_l = 1\n",
    "    max_s = ws\n",
    "    count[s[ws]] = ws\n",
    "    for we in range(1, n):\n",
    "        if s[we] in count.keys():\n",
    "            ws = max(ws, count[s[ws]]+1)\n",
    "        count[s[we]] = we\n",
    "        max_l = max(max_l,we-ws+1)\n",
    "    return max_l\n",
    "        \n",
    "\n",
    "a = 'aabccbb'\n",
    "print(max_substring(a))"
   ]
  },
  {
   "cell_type": "code",
   "execution_count": 31,
   "metadata": {},
   "outputs": [],
   "source": [
    "def max_repeating(s):\n",
    "    n = len(s)\n",
    "    ws = we = 0\n",
    "    ch = s[ws]\n",
    "    ch_f = ch\n",
    "    max_l = 1\n",
    "    for we in range(1,n):\n",
    "        if ch != s[we]:\n",
    "            max_l = max(max_l, we-ws)\n",
    "            ch = s[we]\n",
    "            ws = we\n",
    "    return (max_l, ch)"
   ]
  },
  {
   "cell_type": "code",
   "execution_count": 33,
   "metadata": {},
   "outputs": [
    {
     "data": {
      "text/plain": [
       "(3, 'b')"
      ]
     },
     "execution_count": 33,
     "metadata": {},
     "output_type": "execute_result"
    }
   ],
   "source": [
    "max_repeating('aabcccb')"
   ]
  },
  {
   "cell_type": "code",
   "execution_count": null,
   "metadata": {},
   "outputs": [],
   "source": [
    "def triplet_arr(a):\n",
    "    a.sort()\n",
    "    l = []\n",
    "    n = len(a)\n",
    "    for i in range(n):\n",
    "        if(i>0 and a[i] == a[i-1]):\n",
    "            continue\n",
    "        left = i+1\n",
    "        right = n-1\n",
    "        while (left < right):\n",
    "            triplet = a[i] + a[left] + a[right]\n",
    "            if (triplet == 0):\n",
    "                l.append([a[i], a[left], a[right]])\n",
    "                left += 1\n",
    "                right -= 1\n",
    "                while (left < right and a[left] == a[left-1]):\n",
    "                    left += 1\n",
    "                while (left < right and a[right] == a[right+1]):\n",
    "                    right -= 1\n",
    "            elif (triplet > 0):\n",
    "                right -= 1\n",
    "            \n",
    "            else:\n",
    "                left += 1\n",
    "            \n",
    "    return l\n",
    "    \n",
    "print(triplet_arr([-3,0,1,2,-1,1,-2]))"
   ]
  },
  {
   "cell_type": "markdown",
   "metadata": {},
   "source": [
    "Longest Common Sub-sequence"
   ]
  },
  {
   "cell_type": "code",
   "execution_count": 50,
   "metadata": {},
   "outputs": [
    {
     "name": "stdout",
     "output_type": "stream",
     "text": [
      "3\n"
     ]
    }
   ],
   "source": [
    "def lcs(a,b,m,n):\n",
    "    if m == 0 or n == 0:\n",
    "        return 0\n",
    "    if a[m-1] == b[n-1]:\n",
    "        return 1+lcs(a,b,m-1,n-1)\n",
    "    else:\n",
    "        return max(lcs(a,b,m-1,n), lcs(a,b,m,n-1))\n",
    "a = \"aaba\"\n",
    "b = \"acaca\"\n",
    "m = len(a)\n",
    "n = len(b)\n",
    "print(lcs(a,b,m,n))"
   ]
  },
  {
   "cell_type": "code",
   "execution_count": 22,
   "metadata": {},
   "outputs": [
    {
     "name": "stdout",
     "output_type": "stream",
     "text": [
      "23\n"
     ]
    }
   ],
   "source": [
    "# memoised version\n",
    "def lcs(a,b,m,n,dp):\n",
    "    if m == 0 or n == 0:\n",
    "        return 0\n",
    "    if dp[m-1][n-1] != -1:\n",
    "        return dp[m-1][n-1]\n",
    "    \n",
    "    if a[m-1] == b[n-1]:\n",
    "        dp[m-1][n-1] = 1+lcs(a,b,m-1,n-1,dp)\n",
    "        return dp[m-1][n-1]\n",
    "    \n",
    "    dp[m-1][n-1] = max(lcs(a,b,m-1,n,dp), lcs(a,b,m,n-1,dp))\n",
    "    return dp[m-1][n-1]\n",
    "a = \"abcdefghijklmnopqrstuvwxyz\"\n",
    "b = \"xyzabcdefghijklmnopqrstuvw\"\n",
    "m = len(a)\n",
    "n = len(b)\n",
    "dp = [[-1 for i in range(n)]for i in range(m)]\n",
    "print(lcs(a,b,m,n,dp))"
   ]
  },
  {
   "cell_type": "markdown",
   "metadata": {},
   "source": [
    "__Tabulation of LCS__"
   ]
  },
  {
   "cell_type": "code",
   "execution_count": 21,
   "metadata": {},
   "outputs": [
    {
     "name": "stdout",
     "output_type": "stream",
     "text": [
      "23\n"
     ]
    }
   ],
   "source": [
    "def t_lcs(a,b):\n",
    "    m = len(a)\n",
    "    n = len(b)\n",
    "    dp = [[0 for i in range(n+1)] for j in range(m+1)]\n",
    "    for i in range(1,m+1):\n",
    "        for j in range(1,n+1):\n",
    "            if a[i-1] == b[j-1]:\n",
    "                dp[i][j] = dp[i-1][j-1] + 1\n",
    "            else:\n",
    "                dp[i][j] = max(dp[i-1][j], dp[i][j-1])\n",
    "    return dp[m][n]\n",
    "a = \"abcdefghijklmnopqrstuvwxyz\"\n",
    "b = \"xyzabcdefghijklmnopqrstuvw\"\n",
    "\n",
    "print(t_lcs(a,b))"
   ]
  },
  {
   "cell_type": "markdown",
   "metadata": {},
   "source": [
    "__Sorted Permutation Rank__"
   ]
  },
  {
   "cell_type": "code",
   "execution_count": 15,
   "metadata": {},
   "outputs": [
    {
     "name": "stdout",
     "output_type": "stream",
     "text": [
      "15\n",
      "2\n",
      "51\n"
     ]
    }
   ],
   "source": [
    "from math import factorial as fact\n",
    "def findRank(A):\n",
    "    A = list(A)\n",
    "    B = sorted(A)\n",
    "    c = 0\n",
    "    i = 0\n",
    "    while B:\n",
    "        c += B.index(A[i]) * fact(len(B)-1)\n",
    "        B.remove(A[i])\n",
    "        i += 1\n",
    "    return c+1\n",
    "print(findRank('VIEW'))\n",
    "print(findRank('acb'))\n",
    "print(findRank('AaBbCc'))\n"
   ]
  },
  {
   "cell_type": "markdown",
   "metadata": {},
   "source": [
    "__City Tour(Math)__"
   ]
  },
  {
   "cell_type": "code",
   "execution_count": 33,
   "metadata": {},
   "outputs": [
    {
     "name": "stdout",
     "output_type": "stream",
     "text": [
      "1 3\n",
      "1\n",
      "2\n"
     ]
    }
   ],
   "source": [
    "from math import factorial as fact\n",
    "A =4\n",
    "B = [3,1]\n",
    "B = sorted(B)\n",
    "c = 0\n",
    "n = len(B)\n",
    "c = fact(A-n)\n",
    "for i,j in zip(B[:-1], B[1:]):\n",
    "    gaps = (j-i-1)\n",
    "    print(i,j)\n",
    "    print(gaps)\n",
    "    c = c // fact(gaps)\n",
    "    if gaps>0:\n",
    "        c = c*(2**(gaps-1))\n",
    "c = c//fact(abs(B[0]-1))\n",
    "c = c//fact(abs(B[-1]-A))\n",
    "print(c%(10**9+7))"
   ]
  },
  {
   "cell_type": "code",
   "execution_count": 35,
   "metadata": {},
   "outputs": [
    {
     "data": {
      "text/plain": [
       "64"
      ]
     },
     "execution_count": 35,
     "metadata": {},
     "output_type": "execute_result"
    }
   ],
   "source": [
    "ord(\"A\")-1"
   ]
  },
  {
   "cell_type": "code",
   "execution_count": 37,
   "metadata": {},
   "outputs": [
    {
     "data": {
      "text/plain": [
       "'A'"
      ]
     },
     "execution_count": 37,
     "metadata": {},
     "output_type": "execute_result"
    }
   ],
   "source": [
    "chr(65)"
   ]
  },
  {
   "cell_type": "code",
   "execution_count": 117,
   "metadata": {},
   "outputs": [
    {
     "name": "stdout",
     "output_type": "stream",
     "text": [
      "78\n",
      "26\n",
      "104\n"
     ]
    }
   ],
   "source": [
    "a = \"CZ\"\n",
    "c = 0\n",
    "n = len(a)\n",
    "for i in range(len(a)):\n",
    "    print((26**(n-i-1))*(ord(a[i])-64))\n",
    "    c += (26**(n-i-1))*(ord(a[i])-64)\n",
    "print(c)"
   ]
  },
  {
   "cell_type": "code",
   "execution_count": 147,
   "metadata": {},
   "outputs": [
    {
     "name": "stdout",
     "output_type": "stream",
     "text": [
      "AB\n"
     ]
    }
   ],
   "source": [
    "a = 28\n",
    "s = ''\n",
    "while a>0:\n",
    "    if a%26==0:\n",
    "        s = \"Z\" + s\n",
    "        a = a//26-1 \n",
    "        \n",
    "    else:\n",
    "        s = chr(65+a%26-1)+s\n",
    "        a = a//26\n",
    "print(s)"
   ]
  },
  {
   "cell_type": "code",
   "execution_count": 140,
   "metadata": {},
   "outputs": [
    {
     "data": {
      "text/plain": [
       "'A'"
      ]
     },
     "execution_count": 140,
     "metadata": {},
     "output_type": "execute_result"
    }
   ],
   "source": [
    "chr(65)"
   ]
  },
  {
   "cell_type": "code",
   "execution_count": 91,
   "metadata": {},
   "outputs": [
    {
     "name": "stdout",
     "output_type": "stream",
     "text": [
      "54215651245\n"
     ]
    }
   ],
   "source": [
    "A = \"54215556135\"\n",
    "A = str(A)\n",
    "n = len(A)\n",
    "b = 0\n",
    "mid = n//2\n",
    "if n==1:\n",
    "    b = 11\n",
    "elif A == A[::-1]:\n",
    "    if n%2==0:\n",
    "        mid -= 1\n",
    "        b = str(int(A[:mid+1])+1)\n",
    "        b = b+b[:mid+1][::-1]\n",
    "    else:\n",
    "        b = str(int(A[:mid+1])+1)\n",
    "        b = b+b[:mid][::-1]\n",
    "else:\n",
    "    i = n//2\n",
    "    if n%2==0:\n",
    "        j = i\n",
    "        i -=1\n",
    "    else:\n",
    "        j = i\n",
    "    while A[i]==A[j] and i>0 and j<n:\n",
    "        i-=1\n",
    "        j+=1\n",
    "    if int(A[:i+1][::-1] > A[j:]):\n",
    "        b = A[:i+1] + A[i+1:j] + A[:i+1][::-1]\n",
    "    else:\n",
    "        if j-i == 1:\n",
    "            b = str(int(A[:i+1])+1)\n",
    "            b = b+b[::-1]\n",
    "        else:\n",
    "            b = str(int(A[:i+1]))\n",
    "            b = str(int(A[:i+2+(j-i-1)//2])+1)\n",
    "            b = b+b[:-1][::-1]\n",
    "print(int(b))"
   ]
  },
  {
   "cell_type": "code",
   "execution_count": 20,
   "metadata": {},
   "outputs": [
    {
     "data": {
      "text/plain": [
       "24"
      ]
     },
     "execution_count": 20,
     "metadata": {},
     "output_type": "execute_result"
    }
   ],
   "source": [
    "from math import ceil,floor\n",
    "ceil(23.2)"
   ]
  },
  {
   "cell_type": "markdown",
   "metadata": {},
   "source": [
    "__Greatest Common Divisior__"
   ]
  },
  {
   "cell_type": "code",
   "execution_count": 10,
   "metadata": {},
   "outputs": [
    {
     "name": "stdout",
     "output_type": "stream",
     "text": [
      "4 6\n",
      "6 4\n",
      "4 2\n"
     ]
    },
    {
     "data": {
      "text/plain": [
       "2"
      ]
     },
     "execution_count": 10,
     "metadata": {},
     "output_type": "execute_result"
    }
   ],
   "source": [
    "def gcd(A, B):\n",
    "    if B==0:\n",
    "        return A\n",
    "    print(A,B)\n",
    "    return gcd(B,A%B)\n",
    "gcd(4,6)"
   ]
  },
  {
   "cell_type": "markdown",
   "metadata": {},
   "source": [
    "__Nth Fibonnaci Number__"
   ]
  },
  {
   "cell_type": "code",
   "execution_count": 13,
   "metadata": {},
   "outputs": [
    {
     "data": {
      "text/plain": [
       "55"
      ]
     },
     "execution_count": 13,
     "metadata": {},
     "output_type": "execute_result"
    }
   ],
   "source": [
    "def fib(n):\n",
    "    if n==1:\n",
    "        return 1\n",
    "    if n==2:\n",
    "        return 1\n",
    "    else:\n",
    "        return (fib(n-1)+fib(n-2))%(10**9+7)\n",
    "fib(10)"
   ]
  },
  {
   "cell_type": "code",
   "execution_count": 24,
   "metadata": {},
   "outputs": [
    {
     "data": {
      "text/plain": [
       "6765"
      ]
     },
     "execution_count": 24,
     "metadata": {},
     "output_type": "execute_result"
    }
   ],
   "source": [
    "def fib(n):\n",
    "    f = [0,1]\n",
    "    for i in range(2, n+1):\n",
    "        f.append(f[i-1]+f[i-2])\n",
    "    return f[n]\n",
    "fib(20)"
   ]
  },
  {
   "cell_type": "code",
   "execution_count": 15,
   "metadata": {},
   "outputs": [
    {
     "name": "stdout",
     "output_type": "stream",
     "text": [
      "[[354224848179261915075, 218922995834555169026], [218922995834555169026, 135301852344706746049]]\n"
     ]
    },
    {
     "data": {
      "text/plain": [
       "687995182"
      ]
     },
     "execution_count": 15,
     "metadata": {},
     "output_type": "execute_result"
    }
   ],
   "source": [
    "def multiply( m1, m2):\n",
    "        x = m1[0][0]*m2[0][0]+m1[0][1]*m2[1][0]\n",
    "        y = m1[0][0]*m2[0][1]+m1[0][1]*m2[1][1]\n",
    "        u = m1[1][0]*m2[0][0]+m1[1][1]*m2[1][0]\n",
    "        v = m1[1][0]*m2[0][1]+m1[1][1]*m2[1][1]\n",
    "        return [[x,y],[u,v]]\n",
    "def power(m,n):\n",
    "    if n==0 or n==1:\n",
    "        return m\n",
    "    f = power(m,n//2)\n",
    "    f = multiply(f,f)\n",
    "    if n%2!=0:\n",
    "        f = multiply(f,m)\n",
    "    return f\n",
    "def solve(A):\n",
    "    if A==0:\n",
    "        return 0\n",
    "    if A==1 or A==2:\n",
    "        return 1\n",
    "    m = [[1,1],[1,0]]\n",
    "    f = m[:]\n",
    "    for i in range(2, A):\n",
    "        f = power(m,i)\n",
    "    print(f)\n",
    "    return f[0][0]\n",
    "solve(100)%(10**9+7)"
   ]
  },
  {
   "cell_type": "markdown",
   "metadata": {},
   "source": [
    "__Number of Trailing Zeroes in N!__"
   ]
  },
  {
   "cell_type": "code",
   "execution_count": 1,
   "metadata": {},
   "outputs": [
    {
     "name": "stdout",
     "output_type": "stream",
     "text": [
      "24\n"
     ]
    }
   ],
   "source": [
    "from math import floor\n",
    "n = 100\n",
    "count = 0\n",
    "while n>=5:\n",
    "    n = floor(n/5)\n",
    "    count+=n\n",
    "print(count)"
   ]
  },
  {
   "cell_type": "markdown",
   "metadata": {},
   "source": [
    "__Largest Co-prime Divisior__"
   ]
  },
  {
   "cell_type": "code",
   "execution_count": 18,
   "metadata": {},
   "outputs": [
    {
     "data": {
      "text/plain": [
       "5"
      ]
     },
     "execution_count": 18,
     "metadata": {},
     "output_type": "execute_result"
    }
   ],
   "source": [
    "def gcd(A, B):\n",
    "    if B==0:\n",
    "        return A\n",
    "    return gcd(B,A%B)\n",
    "def cgd(A,B):\n",
    "    i = A\n",
    "    if gcd(A,B)==1:\n",
    "        return A\n",
    "    while gcd(i,B)!=1:\n",
    "        k = gcd(i,B)\n",
    "        i = i//k\n",
    "    return int(i)\n",
    "cgd(30,12)"
   ]
  },
  {
   "cell_type": "markdown",
   "metadata": {},
   "source": [
    "__Sorted Permutation Rank with Repeats__"
   ]
  },
  {
   "cell_type": "code",
   "execution_count": 60,
   "metadata": {},
   "outputs": [
    {
     "name": "stdout",
     "output_type": "stream",
     "text": [
      "70\n"
     ]
    }
   ],
   "source": [
    "from math import factorial as fact\n",
    "def findRank(A):\n",
    "    A = list(A)\n",
    "    B = sorted(A)\n",
    "    c = 0\n",
    "    i = 0\n",
    "    i = 0\n",
    "    while B:\n",
    "        k = B.index(A[i]) * fact(len(B)-1)\n",
    "        d = {}\n",
    "        for j in B:\n",
    "            try:\n",
    "                d[j] += 1\n",
    "            except:\n",
    "                d[j] = 1\n",
    "        for j in d.keys():\n",
    "            k = k//fact(d[j])\n",
    "        c += k\n",
    "        B.remove(A[i])\n",
    "        i += 1\n",
    "    return c+1\n",
    "#print(findRank('VIEW'))\n",
    "#print(findRank('acb'))\n",
    "print(findRank('bbbbaaaa'))"
   ]
  },
  {
   "cell_type": "markdown",
   "metadata": {},
   "source": [
    "__Grid Unique Paths__"
   ]
  },
  {
   "cell_type": "code",
   "execution_count": 61,
   "metadata": {},
   "outputs": [
    {
     "name": "stdout",
     "output_type": "stream",
     "text": [
      "3\n"
     ]
    }
   ],
   "source": [
    "def uniquePaths(A, B):\n",
    "        t = A + B - 2\n",
    "        c = fact(t)//(fact(A-1)*fact(B-1))\n",
    "        return c\n",
    "print(uniquePaths(2,3))"
   ]
  },
  {
   "cell_type": "markdown",
   "metadata": {},
   "source": [
    "__Heap__"
   ]
  },
  {
   "cell_type": "markdown",
   "metadata": {},
   "source": [
    "__K-th Largest Number__"
   ]
  },
  {
   "cell_type": "code",
   "execution_count": 20,
   "metadata": {},
   "outputs": [
    {
     "name": "stdout",
     "output_type": "stream",
     "text": [
      "[4, 6, 5]\n"
     ]
    },
    {
     "data": {
      "text/plain": [
       "4"
      ]
     },
     "execution_count": 20,
     "metadata": {},
     "output_type": "execute_result"
    }
   ],
   "source": [
    "from heapq import *\n",
    "\n",
    "def kth_largest(nums,k):\n",
    "    mH = []\n",
    "    for i in range(k):\n",
    "        heappush(mH, nums[i])\n",
    "    \n",
    "    for i in range(k, len(nums)):\n",
    "        if mH[0]<nums[i]:\n",
    "            heappop(mH)\n",
    "            heappush(mH, nums[i])\n",
    "    print(mH)\n",
    "    return mH[0]\n",
    "\n",
    "\n",
    "a = [3,2,1,5,6,4]\n",
    "\n",
    "kth_largest(a,3)"
   ]
  },
  {
   "cell_type": "markdown",
   "metadata": {},
   "source": [
    "__Top K frequent Elements__"
   ]
  },
  {
   "cell_type": "code",
   "execution_count": 19,
   "metadata": {},
   "outputs": [
    {
     "data": {
      "text/plain": [
       "[1, 2]"
      ]
     },
     "execution_count": 19,
     "metadata": {},
     "output_type": "execute_result"
    }
   ],
   "source": [
    "from heapq import *\n",
    "\n",
    "def top_k_frequent(nums,k):\n",
    "    numFreq = {}\n",
    "    for i in nums:\n",
    "        numFreq[i] = numFreq.get(i,0) + 1\n",
    "    mH = []\n",
    "    for num, freq in numFreq.items():\n",
    "        heappush(mH, (freq, num))\n",
    "        if len(mH)>k:\n",
    "            heappop(mH)\n",
    "    topN = []\n",
    "    while mH:\n",
    "        topN.append(heappop(mH)[1])\n",
    "    return topN\n",
    "\n",
    "\n",
    "a = [1,1,1,2,2,2,3]\n",
    "\n",
    "top_k_frequent(a,2)"
   ]
  },
  {
   "cell_type": "markdown",
   "metadata": {},
   "source": [
    "__Flip__"
   ]
  },
  {
   "cell_type": "code",
   "execution_count": 47,
   "metadata": {},
   "outputs": [
    {
     "name": "stdout",
     "output_type": "stream",
     "text": [
      "[1, 1]\n"
     ]
    }
   ],
   "source": [
    "a = '010'\n",
    "max_dif = 0\n",
    "ones = 0\n",
    "n = len(a)\n",
    "l = 0\n",
    "pair = []\n",
    "for i in range(n):\n",
    "    if a[i] == '0':\n",
    "        ones += 1\n",
    "        if ones>max_dif:\n",
    "            max_dif = ones\n",
    "            pair = [l+1,i+1]\n",
    "    else:\n",
    "        ones -= 1\n",
    "        if ones<0:\n",
    "            l = i+1\n",
    "            ones = 0\n",
    "print(pair)"
   ]
  },
  {
   "cell_type": "code",
   "execution_count": 93,
   "metadata": {},
   "outputs": [
    {
     "data": {
      "text/plain": [
       "[(1, 2), (3, 6), (8, 10)]"
      ]
     },
     "execution_count": 93,
     "metadata": {},
     "output_type": "execute_result"
    }
   ],
   "source": [
    "def insert( inter, new_interval):\n",
    "    intervals = []\n",
    "    for i in range(0,len(inter),2):\n",
    "        intervals.append((inter[i], inter[i+1]))\n",
    "    n = len(intervals)\n",
    "    s = 0\n",
    "    e = 0\n",
    "    f = 1\n",
    "    new_interval[0] = tuple(sorted(new_interval[0]))\n",
    "    for i in range(n-1):\n",
    "        if new_interval[0][0] in range(intervals[i][0], intervals[i][1]):\n",
    "            s = i\n",
    "            break\n",
    "        elif new_interval[0][0]<intervals[i+1][0]:\n",
    "            s = i\n",
    "            f = 1\n",
    "            break\n",
    "    else:\n",
    "        intervals.append(new_interval[0])\n",
    "        return intervals\n",
    "    for i in range(s,n-1):\n",
    "        if new_interval[0][1] in range(intervals[i][0], intervals[i][1]) :\n",
    "            e = i\n",
    "            break\n",
    "        elif new_interval[0][1]<intervals[i+1][0]:\n",
    "            e = i\n",
    "            f = 1\n",
    "            break\n",
    "    intervals[s:e+1] = [(min(intervals[s][0], new_interval[0][0]), max(intervals[e][1], new_interval[0][1]))]\n",
    "    return intervals\n",
    "#print(insert([(1,2),(3,5),(6,7),(8,10),(12,16)], [(4,9)]))\n",
    "#insert([[1,3],[6,9]],[2,5])\n",
    "insert([1, 2, 3, 6], [(10, 8)])"
   ]
  },
  {
   "cell_type": "code",
   "execution_count": 87,
   "metadata": {},
   "outputs": [
    {
     "data": {
      "text/plain": [
       "(8, 10)"
      ]
     },
     "execution_count": 87,
     "metadata": {},
     "output_type": "execute_result"
    }
   ],
   "source": [
    "tuple(sorted((10,8)))"
   ]
  },
  {
   "cell_type": "markdown",
   "metadata": {},
   "source": [
    "__Perfect Peak of Array__"
   ]
  },
  {
   "cell_type": "code",
   "execution_count": 125,
   "metadata": {},
   "outputs": [
    {
     "name": "stdout",
     "output_type": "stream",
     "text": [
      "[1, 1, 2, 3, 4, 5, 5, 5, 5, 5, 0]\n",
      "[1, 2, 3, 4, 5, 4, 3, 2, 3, 10]\n",
      "[2, 2, 2, 2, 2, 2, 2, 3, 10, 10, 0]\n"
     ]
    },
    {
     "data": {
      "text/plain": [
       "0"
      ]
     },
     "execution_count": 125,
     "metadata": {},
     "output_type": "execute_result"
    }
   ],
   "source": [
    "def perfectPeak( A):\n",
    "    min_a = [0]*(len(A)+1)\n",
    "    max_a = [0]*(len(A)+1)\n",
    "    max_e = A[0]\n",
    "    min_e = A[-1]\n",
    "    for i in range(len(A)):\n",
    "        max_a[i] = max_e\n",
    "        if max_e < A[i]:\n",
    "            max_e = A[i]\n",
    "    for i in range(len(A)-1,-1,-1):\n",
    "        min_a[i] = min_e\n",
    "        if min_e > A[i]:\n",
    "            min_e = A[i]\n",
    "    print(max_a)\n",
    "    print(A)\n",
    "    print(min_a)\n",
    "    for i in range(1,len(A)-1):\n",
    "        if A[i]>max_a[i] and A[i]<min_a[i]:\n",
    "            return 1\n",
    "    return 0\n",
    "#a = [5, 1, 4, 3, 6, 8, 10, 7, 9]\n",
    "a = [ 1, 2, 3, 4, 5, 4, 3, 2, 3, 10]\n",
    "perfectPeak(a)"
   ]
  },
  {
   "cell_type": "code",
   "execution_count": 126,
   "metadata": {},
   "outputs": [
    {
     "name": "stdout",
     "output_type": "stream",
     "text": [
      "[1, 4, 9]\n"
     ]
    }
   ],
   "source": [
    "A = [1,2,3]\n",
    "A = [x**2 for x in A]\n",
    "print(A)"
   ]
  },
  {
   "cell_type": "markdown",
   "metadata": {},
   "source": [
    "__Largest Number from an Array__"
   ]
  },
  {
   "cell_type": "code",
   "execution_count": 17,
   "metadata": {},
   "outputs": [
    {
     "name": "stdout",
     "output_type": "stream",
     "text": [
      "2\n",
      "9534330\n"
     ]
    }
   ],
   "source": [
    "from functools import cmp_to_key\n",
    "A = [3 ,30 ,34 ,5 ,9]\n",
    "c = len(str(max(A)))\n",
    "print(c)\n",
    "A = map(str,A)\n",
    "a = cmp_to_key(lambda x,y: 1 if x+y >= y+x else -1)\n",
    "A = ''.join(sorted(A,key = a, reverse = True))\n",
    "print(A)"
   ]
  },
  {
   "cell_type": "markdown",
   "metadata": {},
   "source": [
    "__K closest point to the origin__"
   ]
  },
  {
   "cell_type": "code",
   "execution_count": 2,
   "metadata": {},
   "outputs": [
    {
     "data": {
      "text/plain": [
       "[[-2, 2]]"
      ]
     },
     "execution_count": 2,
     "metadata": {},
     "output_type": "execute_result"
    }
   ],
   "source": [
    "from heapq import *\n",
    "\n",
    "def solve(points, k):\n",
    "    maxH = []\n",
    "    for i in points:\n",
    "        x = i[0]\n",
    "        y = i[1]\n",
    "        dist = x*x + y*y \n",
    "        heappush(maxH, (-dist, x, y))\n",
    "        if (len(maxH) > k):\n",
    "            heappop(maxH)\n",
    "    ans = []\n",
    "    while maxH:\n",
    "        dist, x, y = heappop(maxH)\n",
    "        ans.append([x,y])\n",
    "    return ans\n",
    "solve([[1,3],[-2,2]], 1)\n"
   ]
  },
  {
   "cell_type": "markdown",
   "metadata": {},
   "source": [
    "__Reorganize String__"
   ]
  },
  {
   "cell_type": "code",
   "execution_count": 48,
   "metadata": {},
   "outputs": [
    {
     "name": "stdout",
     "output_type": "stream",
     "text": [
      "[(-1, 'b'), (-1, 'c')]\n",
      "[(-2, 'a'), (-1, 'c')]\n",
      "[(-1, 'c')]\n",
      "[(-1, 'a')]\n",
      "[]\n"
     ]
    },
    {
     "data": {
      "text/plain": [
       "'abaca'"
      ]
     },
     "execution_count": 48,
     "metadata": {},
     "output_type": "execute_result"
    }
   ],
   "source": [
    "from heapq import *\n",
    "def solve(s):\n",
    "    d = {}\n",
    "    n = len(s)\n",
    "    for i in s:\n",
    "        d[i] = d.get(i,0) + 1\n",
    "    \n",
    "    maxH = []\n",
    "    for i in d.items():\n",
    "        heappush(maxH, (-1*i[1],i[0]))\n",
    "   \n",
    "    res = ''\n",
    "    prevfreq = 0\n",
    "    prevchar = None\n",
    "    while maxH:\n",
    "        k = heappop(maxH)\n",
    "        res += k[1]\n",
    "        if (prevfreq <0 and prevchar != None):\n",
    "            heappush(maxH, (prevfreq, prevchar))\n",
    "        prevfreq = k[0]+1\n",
    "        prevchar = k[1]\n",
    "        print(maxH)\n",
    "    if len(res)<n:\n",
    "        return \"\"\n",
    "    return res\n",
    "solve(\"aabac\")"
   ]
  },
  {
   "cell_type": "markdown",
   "metadata": {},
   "source": [
    "__Inplace Square Matrix Rotation 90 degree Clockwise__"
   ]
  },
  {
   "cell_type": "code",
   "execution_count": 10,
   "metadata": {},
   "outputs": [
    {
     "data": {
      "text/plain": [
       "[[110, 77, 79, 31],\n",
       " [291, 84, 197, 32],\n",
       " [356, 126, 241, 228],\n",
       " [371, 337, 246, 333]]"
      ]
     },
     "execution_count": 10,
     "metadata": {},
     "output_type": "execute_result"
    }
   ],
   "source": [
    "def rotate(A):\n",
    "    n = len(A)\n",
    "    for i in range(n//2):\n",
    "        for j in range(i,n-i-1):\n",
    "            t = A[i][j]\n",
    "            A[i][j] = A[n-j-1][i] \n",
    "            A[n-j-1][i] = A[n-i-1][n-j-1]\n",
    "            A[n-i-1][n-j-1] = A[j][n-i-1]\n",
    "            A[j][n-i-1] = t\n",
    "    return A\n",
    "rotate([ [31, 32, 228, 333],\n",
    "        [ 79, 197, 241, 246],\n",
    "        [77, 84, 126, 337],\n",
    "        [110, 291, 356, 371]])"
   ]
  },
  {
   "cell_type": "markdown",
   "metadata": {},
   "source": [
    "__Next Permutation__"
   ]
  },
  {
   "cell_type": "code",
   "execution_count": 50,
   "metadata": {},
   "outputs": [
    {
     "data": {
      "text/plain": [
       "[1, 3, 2]"
      ]
     },
     "execution_count": 50,
     "metadata": {},
     "output_type": "execute_result"
    }
   ],
   "source": [
    "def nextPerm(A):\n",
    "    n = len(A)\n",
    "    ind = -1\n",
    "    for i in range(0,n-1):\n",
    "        if A[i]<A[i+1]:\n",
    "            ind = i\n",
    "    if ind == -1:\n",
    "        return sorted(A)\n",
    "    for j in range(n-1, ind-1,-1):\n",
    "        if A[j]>A[ind]:\n",
    "            A[j], A[ind] = A[ind], A[j]\n",
    "            return A[:ind+1] + A[ind+1:][::-1]\n",
    "nextPerm([1,2,3])"
   ]
  },
  {
   "cell_type": "markdown",
   "metadata": {},
   "source": [
    "__Find Permutation__"
   ]
  },
  {
   "cell_type": "code",
   "execution_count": 87,
   "metadata": {},
   "outputs": [
    {
     "name": "stdout",
     "output_type": "stream",
     "text": [
      "ID\n",
      "[1, 3, 2]\n"
     ]
    }
   ],
   "source": [
    "def findPerm(n, d):\n",
    "    s = 1\n",
    "    e = n\n",
    "    if d[0] == \"D\":\n",
    "        ans = [e]\n",
    "        e -= 1\n",
    "    else:\n",
    "        ans = [s]\n",
    "        s += 1\n",
    "    print(d)\n",
    "    for i in range(len(d)-1):\n",
    "        if d[i]==\"D\":\n",
    "            if d[i+1] == \"I\":\n",
    "                ans.append(s)\n",
    "                s += 1\n",
    "            else:\n",
    "                ans.append(e)\n",
    "                e -= 1\n",
    "        else:\n",
    "            if d[i+1] == \"I\":\n",
    "                ans.append(s)\n",
    "                s += 1\n",
    "            else:\n",
    "                ans.append(e)\n",
    "                e -= 1\n",
    "    if d[-1] == \"D\":\n",
    "        ans.append(s)\n",
    "    else:\n",
    "        ans.append(e)\n",
    "    return ans\n",
    "\n",
    "k = \"DDDDDDDDDDDDDDDDDDDDDDDDDDDDDDDDDDDDDDDDDDDDDDDDDDDDDDDDDDDDDDDDDDDDDDDDDDDDDDDDDDDDDDDDDDDDDDDDDDDDDDDDDDDDDDDDDDDDDDDDDDDDDDDDDDDDDDDDDDDDDDDDDDDDDDDDDDDDDDDDDDDDDDDDDDDDDDDDDDDDDDDDDDDDDDDDDDDDDDDDDDDDDDDDDDDDDDDDDDDDDDDDDDDDDDDDDDDDDDDDDDDDDDDDDDDDDDDDDDDDDDDDDDDDDDDDDDDDDDDDDDDDDDDDDDDDDDDDDDDDDDDDDDDDDDDDDDDDDDDDDDDDDDDDDDDDDDDDDDDDDDDDDDDDDDDDD\"\n",
    "B = 354\n",
    "#print(findPerm(B,k))\n",
    "print(findPerm(3,\"ID\"))"
   ]
  },
  {
   "cell_type": "markdown",
   "metadata": {},
   "source": [
    "__Number of Required Rooms__"
   ]
  },
  {
   "cell_type": "code",
   "execution_count": 14,
   "metadata": {},
   "outputs": [
    {
     "name": "stdout",
     "output_type": "stream",
     "text": [
      "[(5, 3), (6, 5)]\n"
     ]
    },
    {
     "data": {
      "text/plain": [
       "2"
      ]
     },
     "execution_count": 14,
     "metadata": {},
     "output_type": "execute_result"
    }
   ],
   "source": [
    "from heapq import *\n",
    "def room(A):\n",
    "    minH = []\n",
    "    A = sorted(A, key = lambda x:x[0])\n",
    "    for i in A:\n",
    "        if minH == []:\n",
    "            heappush(minH,i[::-1])\n",
    "        else:\n",
    "            k = heappop(minH)\n",
    "            if i[0]>=k[0]:\n",
    "                heappush(minH,i[::-1])\n",
    "            else:\n",
    "                heappush(minH,k)\n",
    "                heappush(minH,i[::-1])\n",
    "    print(minH)\n",
    "    return len(minH)\n",
    "A = [(6,7),(2,4),(5,12)]\n",
    "A = [(2,3),(2,5),(3,5),(5,6)]\n",
    "room(A)"
   ]
  },
  {
   "cell_type": "markdown",
   "metadata": {},
   "source": [
    "__Nobel Integer__"
   ]
  },
  {
   "cell_type": "code",
   "execution_count": 30,
   "metadata": {},
   "outputs": [
    {
     "data": {
      "text/plain": [
       "-1"
      ]
     },
     "execution_count": 30,
     "metadata": {},
     "output_type": "execute_result"
    }
   ],
   "source": [
    "def solve(A):\n",
    "    A = sorted(A)\n",
    "    n = len(A)\n",
    "    if max(A)==0:\n",
    "        return 1\n",
    "    for i in range(n-1):\n",
    "        if (A[i]) == n-i-1 and A[i]!=A[i+1]:\n",
    "            return 1\n",
    "    return -1\n",
    "A = [3,2,1,3]\n",
    "#A = [ -4, 7, 5, 3, 5, -4, 2, -1, -9, -8, -3, 0, 9, -7, -4, -10, -4, 2, 6, 1, -2, -3, -1, -8, 0, -8, -7, -3, 5, -1, -8, -8,\n",
    " #    8, -1, -3, 3, 6, 1, -8, -1, 3, -9, 9, -6, 7, 8, -6, 5, 0, 3, -4, 1, -10, 6, 3, -8, 0, 6, -9, -5, -5, -6, -3, 6, -5, \n",
    "  #   -4, -1, 3, 7, -6, 5, -8, -5, 4, -3, 4, -6, -7, 0, -3, -2, 6, 8, -2, -6, -7, 1, 4, 9, 2, -10, 6, -2, 9, 2, -4, -4, 4,\n",
    "   #  9, 5, 0, 4, 8, -3, -9, 7, -8, 7, 2, 2, 6, -9, -10, -4, -9, -5, -1, -6, 9, -10, -1, 1, 7, 7, 1, -9, 5, -1, -3, -3, 6,\n",
    "    # 7, 3, -4, -5, -4, -7, 9, -6, -2, 1, 2, -1, -7, 9, 0, -2, -2, 5, -10, -1, 6, -7, 8, -5, -4, 1, -9, 5, 9, -2, -6, -2, \n",
    "     #-9, 0, 3, -10, 4, -6, -6, 4, -3, 6, -7, 1, -3, -5, 9, 6, 2, 1, 7, -2, 5 ]\n",
    "#A = [ -1, -2, 0, 0, 0, -3 ]\n",
    "A = [-6,-1,4]\n",
    "solve(A)"
   ]
  },
  {
   "cell_type": "markdown",
   "metadata": {},
   "source": [
    "__Wave Array__"
   ]
  },
  {
   "cell_type": "code",
   "execution_count": 38,
   "metadata": {},
   "outputs": [
    {
     "data": {
      "text/plain": [
       "[2, 1, 4, 3]"
      ]
     },
     "execution_count": 38,
     "metadata": {},
     "output_type": "execute_result"
    }
   ],
   "source": [
    "def wave(A):\n",
    "    A = sorted(A)\n",
    "    n = len(A)\n",
    "    for i in range(0,n-1,2):\n",
    "        A[i], A[i+1] = A[i+1], A[i]\n",
    "    return(A)\n",
    "A = [1,2,3,4]\n",
    "wave(A)"
   ]
  },
  {
   "cell_type": "markdown",
   "metadata": {},
   "source": [
    "__Hotel Bookings Possible__"
   ]
  },
  {
   "cell_type": "code",
   "execution_count": 56,
   "metadata": {},
   "outputs": [
    {
     "name": "stdout",
     "output_type": "stream",
     "text": [
      "[18, 40]\n",
      "[40, 43]\n"
     ]
    },
    {
     "data": {
      "text/plain": [
       "1"
      ]
     },
     "execution_count": 56,
     "metadata": {},
     "output_type": "execute_result"
    }
   ],
   "source": [
    "def hotel(A,B,C):\n",
    "    n = len(A)\n",
    "    A = sorted(A)\n",
    "    B = sorted(B)\n",
    "    for i in range(n):\n",
    "        if i+C<n and A[i+C]<B[i]:\n",
    "            return 0\n",
    "    return 1\n",
    "A = [1, 3, 5]\n",
    "B = [2, 6, 8]\n",
    "C = 1\n",
    "A = [ 1, 2, 3, 4 ]\n",
    "B = [ 10, 2, 6, 14 ]\n",
    "C = 4\n",
    "A = [ 11, 0, 28, 23, 14, 12, 10, 18, 5, 5, 34, 21, 26 ]\n",
    "B = [ 35, 30, 35, 71, 59, 21, 59, 58, 48, 40, 59, 22, 27 ]\n",
    "C = 10\n",
    "A = [ 40, 18 ]\n",
    "B = [ 40, 43 ]\n",
    "C = 1\n",
    "hotel(A,B,C)"
   ]
  },
  {
   "cell_type": "code",
   "execution_count": 16,
   "metadata": {},
   "outputs": [
    {
     "name": "stdout",
     "output_type": "stream",
     "text": [
      "[(2, 3), (3, 0), (4, 2), (5, 1)]\n"
     ]
    },
    {
     "data": {
      "text/plain": [
       "2"
      ]
     },
     "execution_count": 16,
     "metadata": {},
     "output_type": "execute_result"
    }
   ],
   "source": [
    "def max_dist(A):\n",
    "    n = len(A)\n",
    "    d = []\n",
    "    for i,j in enumerate(A):\n",
    "        d.append((j,i))\n",
    "    d = sorted(d)\n",
    "    print(d)\n",
    "    cur_i = d[0][1]\n",
    "    max_d = 0\n",
    "    for i in d:\n",
    "        if i[1]<=cur_i:\n",
    "            cur_i = i[1]\n",
    "        else:\n",
    "            max_d = max(max_d, i[1]-cur_i)\n",
    "    return max_d\n",
    "A = [3,5,4,2]\n",
    "#A = [1,10]\n",
    "#A = [-1,-1,2]\n",
    "max_dist(A)"
   ]
  },
  {
   "cell_type": "code",
   "execution_count": 17,
   "metadata": {},
   "outputs": [
    {
     "name": "stdout",
     "output_type": "stream",
     "text": [
      "[3, 0, 2, 1]\n"
     ]
    },
    {
     "data": {
      "text/plain": [
       "2"
      ]
     },
     "execution_count": 17,
     "metadata": {},
     "output_type": "execute_result"
    }
   ],
   "source": [
    "def sove(A):\n",
    "    array = list(range(len(A)))\n",
    "    array.sort(key = lambda i:A [i])\n",
    "    maxDistance = 0\n",
    "    print(array)\n",
    "    minSofar = array[0]\n",
    "    for i in array:\n",
    "        if i <= minSofar:\n",
    "            minSofar = i\n",
    "        else:\n",
    "            maxDistance = max(maxDistance,i - minSofar)\n",
    "    return maxDistance\n",
    "sove([3,5,4,2])"
   ]
  },
  {
   "cell_type": "markdown",
   "metadata": {},
   "source": [
    "__Maximum Unsorted Sub-array__"
   ]
  },
  {
   "cell_type": "code",
   "execution_count": 18,
   "metadata": {},
   "outputs": [
    {
     "name": "stdout",
     "output_type": "stream",
     "text": [
      "[1, 2, 3, 5, 6, 13, 15, 16, 17, 13, 13, 15, 17, 17, 17, 17, 17, 19, 19]\n",
      "[17, 13]\n",
      "[15, 16, 17, 13, 13, 15] 6 11\n"
     ]
    }
   ],
   "source": [
    "def subUnsort(A):\n",
    "    i = 0\n",
    "    n = len(A)\n",
    "    j = n-1\n",
    "    while i<n-1 and A[i]<=A[i+1]:\n",
    "        i+=1\n",
    "    while j>0 and A[j-1]<=A[j]:\n",
    "        j-=1\n",
    "    mmax = max(A[i:j+1])\n",
    "    mmin = min(A[i:j+1])\n",
    "    for k in range(i):\n",
    "        if A[k]>mmin:\n",
    "            i = k\n",
    "            break\n",
    "    e = j\n",
    "    for k in range(n-1,j,-1):\n",
    "        if A[k]<mmax:\n",
    "            e = k\n",
    "            break\n",
    "    return [i,e]\n",
    "A = [ 1, 2, 3, 5, 6, 13, 15, 16, 17, 13, 13, 15, 17, 17, 17, 17, 17, 19, 19 ]\n",
    "\n",
    "subUnsort(A)"
   ]
  },
  {
   "cell_type": "markdown",
   "metadata": {},
   "source": [
    "__Set Matrix Zeroes__"
   ]
  },
  {
   "cell_type": "code",
   "execution_count": 22,
   "metadata": {},
   "outputs": [
    {
     "data": {
      "text/plain": [
       "[[0, 0, 0], [1, 0, 1], [1, 0, 1]]"
      ]
     },
     "execution_count": 22,
     "metadata": {},
     "output_type": "execute_result"
    }
   ],
   "source": [
    "def setZeroes(A):\n",
    "    cols = []\n",
    "    m = len(A)\n",
    "    n = len(A[0])\n",
    "    for j in range(m):\n",
    "        f = 0\n",
    "        for i in range(n):\n",
    "            if A[j][i] == 0:\n",
    "                cols.append(i)\n",
    "                f = 1\n",
    "        if f==1:\n",
    "            A[j] = [0]*n\n",
    "    cols = list(set(cols))\n",
    "    for i in cols:\n",
    "        for j in range(m):\n",
    "            A[j][i] = 0\n",
    "    return A\n",
    "\n",
    "A = [[1, 0, 1],\n",
    "     [1, 1, 1], \n",
    "     [1, 1, 1]]\n",
    "setZeroes(A)"
   ]
  },
  {
   "cell_type": "markdown",
   "metadata": {},
   "source": [
    "__First Missing Positive Integer__"
   ]
  },
  {
   "cell_type": "code",
   "execution_count": 28,
   "metadata": {},
   "outputs": [
    {
     "name": "stdout",
     "output_type": "stream",
     "text": [
      "[1, 2]\n",
      "[3, 4]\n",
      "[3, 4]\n"
     ]
    },
    {
     "data": {
      "text/plain": [
       "3"
      ]
     },
     "execution_count": 28,
     "metadata": {},
     "output_type": "execute_result"
    }
   ],
   "source": [
    "def firstMP(A):\n",
    "    n = len(A)\n",
    "    ptr = 0\n",
    "\n",
    "    # Check if 1 is present in array or not\n",
    "    for i in range(n):\n",
    "        if A[i] == 1:\n",
    "            ptr = 1\n",
    "            break\n",
    "\n",
    "    # If 1 is not present\n",
    "    if ptr == 0:\n",
    "        return(1)\n",
    "\n",
    "    # Changing values to 1\n",
    "    for i in range(n):\n",
    "        if A[i] <= 0 or A[i] > n:\n",
    "            A[i] = 1\n",
    "    print(A)\n",
    "    # Updating indices according to values\n",
    "    for i in range(n):\n",
    "        A[(A[i] - 1) % n] += n\n",
    "    print(A)\n",
    "    # Finding which index has value less than n\n",
    "    for i in range(n):\n",
    "        if A[i] <= n:\n",
    "            return(i + 1)\n",
    "    print(A)\n",
    "\n",
    "    # If array has values from 1 to n\n",
    "    return(n + 1)\n",
    "A = [1,2]\n",
    "firstMP(A)"
   ]
  },
  {
   "cell_type": "code",
   "execution_count": 60,
   "metadata": {},
   "outputs": [
    {
     "name": "stdout",
     "output_type": "stream",
     "text": [
      "[[-999, -999, -999, -999, -999], [-999, -999, -999, -999, -999], [-999, -999, -999, -999, -999], [-999, -999, -999, -999, -999], [-999, -999, -999, -999, -999]]\n"
     ]
    },
    {
     "data": {
      "text/plain": [
       "48"
      ]
     },
     "execution_count": 60,
     "metadata": {},
     "output_type": "execute_result"
    }
   ],
   "source": [
    "def solve(A, B):\n",
    "    n = len(A)\n",
    "    if n == B:\n",
    "        s = 0\n",
    "        for i in range(n):\n",
    "            s+=sum(A[i])\n",
    "        return s\n",
    "    else:\n",
    "        dp = [[-999 for i in range(n)] for i in range(n)]\n",
    "        ans = []\n",
    "        def max_sum(i,j,B):\n",
    "            if i+B > n or j+B > n:\n",
    "                return -999\n",
    "            if dp[i][j]!=-999:\n",
    "                return dp[i][j]\n",
    "            else:\n",
    "                s = 0\n",
    "                for k in range(i,i+B):\n",
    "                    for f in range(j,j+B):\n",
    "                        s+=A[k][f]\n",
    "                dp[i][j] = max(s, max_sum(i+1,j,B), max_sum(i,j+1,B), max_sum(i+1,j+1,B))\n",
    "                return dp[i][j]\n",
    "        return max_sum(0,0,B)\n",
    "\n",
    "\n",
    "A = [\n",
    "  [-50, 73, -34, -56, -41, -8, -61, -47, -76, 54, 10, 45, -51, 86, 13, -26, -78, 68, -82, 87],\n",
    "  [5, 58, 91, -98, -75, -23, -86, 14, -76, 34, -26, 72, 59, -67, -30, -13, -3, 18, 77, 73],\n",
    "  [-30, 63, -32, 92, 85, 2, -20, -87, -73, -98, -1, 27, -75, 43, 24, -77, 72, -39, 81, -97],\n",
    "  [-68, 5, 93, 25, -69, -8, 42, -78, -14, -36, 0, 87, 60, -87, 74, -30, 70, -65, -67, 11],\n",
    "  [60, -4, -33, -15, 50, 40, -6, -5, -76, -81, 25, 76, -6, -42, 2, 71, -34, -22, 93, -49],\n",
    "  [-16, -82, -36, 19, 52, -100, -13, -40, 26, -90, 57, 70, 15, 76, -73, -57, 58, 64, 9, -18],\n",
    "  [-14, 65, -13, 77, -26, -75, -73, -71, 28, -77, 20, 2, 62, 23, 96, 37, -39, 95, 25, -36],\n",
    "  [-40, -98, 16, -70, 26, -89, 71, -89, 47, 53, 20, 90, 24, 88, 63, 40, -49, -38, -71, 0],\n",
    "  [13, 58, 78, 65, -93, -23, -100, -42, -61, 3, 60, 57, 24, -23, 8, 13, -13, -99, -50, -40],\n",
    "  [-72, 93, 84, -95, 40, 11, 4, -65, 56, -28, 50, -77, -15, 56, -84, -74, 57, 26, 57, 37],\n",
    "  [-29, -31, 61, -4, -78, -83, 12, 17, -4, 85, -59, -77, 29, -71, 65, 59, 32, -4, -45, -47],\n",
    "  [62, 84, 34, -46, 72, -43, 69, 32, 63, -93, -17, 11, -65, -33, -52, -25, 38, -77, 42, 54],\n",
    "  [11, 41, 75, -41, -75, -79, -30, -74, 34, -95, 83, -50, 98, -21, 1, 93, 34, -63, 34, 56],\n",
    "  [93, 76, 5, 62, 48, -19, 0, -87, -59, -45, -45, 42, -38, -89, -23, -76, -22, 52, -57, -4],\n",
    "  [-27, -60, 13, -25, -28, -82, -90, -83, 32, 12, -5, 69, -69, -60, -12, -15, -10, -3, 89, 90],\n",
    "  [45, 53, 14, -49, 40, -56, -42, 35, 59, 92, -95, -36, 81, 3, -71, 75, -92, -8, 97, 49],\n",
    "  [56, 61, -73, -33, 41, 29, -60, -87, 74, -99, -23, -85, -17, -87, 92, -76, -99, 92, 59, -30],\n",
    "  [-72, -73, -16, -25, 86, -2, 70, -13, -53, -96, 3, -79, -37, 6, 63, -90, 71, -11, -60, 64],\n",
    "  [42, -81, 13, 91, 4, -82, -68, 50, -95, 75, 39, 3, -78, -2, -53, 84, -52, 71, -36, 13],\n",
    "  [-25, 45, 12, 46, -22, 69, -38, 19, 85, -11, 44, -35, 40, -55, 8, 18, -30, -99, 23, 32]\n",
    "]\n",
    "B = 13\n",
    "A = [\n",
    "[1, 1, 1, 1, 1],\n",
    "[2, 2, 2, 2, 2],\n",
    "[3, 8, 6, 7, 3],\n",
    "[4, 4, 4, 4, 4],\n",
    "[5, 5, 5, 5, 5]\n",
    "]\n",
    "B = 3\n",
    "\n",
    "solve(A,B)"
   ]
  },
  {
   "cell_type": "code",
   "execution_count": 51,
   "metadata": {},
   "outputs": [
    {
     "data": {
      "text/plain": [
       "[1, 4, 5]"
      ]
     },
     "execution_count": 51,
     "metadata": {},
     "output_type": "execute_result"
    }
   ],
   "source": [
    "max([[1,2,4],[1,4,5]])"
   ]
  },
  {
   "cell_type": "code",
   "execution_count": 18,
   "metadata": {},
   "outputs": [
    {
     "name": "stdout",
     "output_type": "stream",
     "text": [
      "145\n"
     ]
    },
    {
     "data": {
      "text/plain": [
       "[213, 3]"
      ]
     },
     "execution_count": 18,
     "metadata": {},
     "output_type": "execute_result"
    }
   ],
   "source": [
    "def rmn(A):\n",
    "    n = len(A)\n",
    "    ans = []\n",
    "    for i in range(n):\n",
    "        if A[abs(A[i])-1]>0:\n",
    "            A[abs(A[i])-1] = -A[abs(A[i])-1]\n",
    "        else:\n",
    "            ans.append(abs(A[i]))\n",
    "            break\n",
    "    for i in range(n):\n",
    "        if A[i]>0:\n",
    "            ans.append(i+1)\n",
    "            break\n",
    "    return ans\n",
    "A = [3,1,2,5,3]\n",
    "A = [ 389, 299, 65, 518, 361, 103, 342, 406, 24, 79, 192, 181, 178, 205, 38, 298, 218, 143, 446, 324, 82, 41, 312, 166,\n",
    "     252, 59, 91, 6, 248, 395, 157, 332, 352, 57, 106, 246, 506, 261, 16, 470, 224, 228, 286, 121, 193, 241, 203, 36, 264,\n",
    "     234, 386, 471, 225, 466, 81, 58, 253, 468, 31, 197, 15, 282, 334, 171, 358, 209, 213, 158, 355, 243, 75, 411, 43, 485,\n",
    "     291, 270, 25, 100, 194, 476, 70, 402, 403, 109, 322, 421, 313, 239, 327, 238, 257, 433, 254, 328, 163, 436, 520, 437,\n",
    "     392, 199, 63, 482, 222, 500, 454, 84, 265, 508, 416, 141, 447, 258, 384, 138, 47, 156, 172, 319, 137, 62, 85, 154, 97,\n",
    "     18, 360, 244, 272, 93, 263, 262, 266, 290, 369, 357, 176, 317, 383, 333, 204, 56, 521, 502, 326, 353, 469, 455, 190,\n",
    "     393, 453, 314, 480, 189, 77, 129, 439, 139, 441, 443, 351, 528, 182, 101, 501, 425, 126, 231, 445, 155, 432, 418, 95,\n",
    "     375, 376, 60, 271, 74, 11, 419, 488, 486, 54, 460, 321, 341, 174, 408, 131, 115, 107, 134, 448, 532, 292, 289, 320,\n",
    "     14, 323, 61, 481, 371, 151, 385, 325, 472, 44, 335, 431, 187, 51, 88, 105, 145, 215, 122, 162, 458, 52, 496, 277, \n",
    "     362, 374, 26, 211, 452, 130, 346, 10, 315, 459, 92, 531, 467, 309, 34, 281, 478, 477, 136, 519, 196, 240, 12, 288,\n",
    "     302, 119, 356, 503, 527, 22, 27, 55, 343, 490, 127, 444, 308, 354, 278, 497, 191, 294, 117, 1, 396, 125, 148, 285, \n",
    "     509, 208, 382, 297, 405, 245, 5, 330, 311, 133, 274, 275, 118, 463, 504, 39, 99, 442, 337, 169, 140, 104, 373, 221,\n",
    "     499, 413, 124, 510, 159, 465, 80, 276, 83, 329, 524, 255, 387, 259, 397, 491, 517, 23, 4, 230, 48, 349, 412, 142,\n",
    "     114, 487, 381, 164, 35, 67, 498, 73, 440, 108, 226, 96, 132, 144, 207, 235, 33, 69, 128, 236, 364, 198, 475, 173,\n",
    "     493, 150, 90, 515, 111, 68, 232, 340, 112, 526, 492, 512, 495, 429, 146, 336, 17, 350, 251, 7, 184, 76, 380, 359,\n",
    "     293, 19, 49, 345, 227, 212, 430, 89, 474, 279, 201, 398, 347, 273, 37, 185, 177, 102, 304, 295, 422, 94, 426, 514, \n",
    "     116, 183, 180, 494, 42, 305, 152, 390, 30, 247, 451, 32, 388, 331, 78, 424, 368, 394, 188, 306, 449, 8, 214, 120,\n",
    "     179, 280, 511, 409, 338, 153, 507, 370, 461, 217, 161, 483, 147, 242, 86, 417, 268, 71, 462, 420, 167, 513, 379, \n",
    "     307, 522, 435, 113, 296, 457, 525, 45, 529, 423, 427, 2, 438, 64, 316, 46, 40, 13, 516, 367, 233, 110, 318, 250, 283,\n",
    "     216, 186, 310, 237, 377, 365, 175, 479, 378, 66, 414, 473, 165, 210, 50, 348, 372, 363, 339, 20, 168, 284, 415, 505, 206,\n",
    "     53, 223, 434, 202, 123, 399, 400, 135, 269, 428, 219, 456, 28, 464, 267, 489, 98, 391, 195, 366, 300, 484, 533, 229, 213,\n",
    "     149, 160, 256, 303, 530, 301, 29, 404, 344, 401, 220, 287, 9, 407, 170, 450, 523, 249, 72, 410, 3, 21, 200, 260 ]\n",
    "\n",
    "rmn(A)"
   ]
  },
  {
   "cell_type": "markdown",
   "metadata": {},
   "source": [
    "__Find Duplicate In Array__"
   ]
  },
  {
   "cell_type": "code",
   "execution_count": 21,
   "metadata": {},
   "outputs": [
    {
     "data": {
      "text/plain": [
       "3"
      ]
     },
     "execution_count": 21,
     "metadata": {},
     "output_type": "execute_result"
    }
   ],
   "source": [
    "def repeatedNumber( A):\n",
    "    A = list(A)\n",
    "    n = len(A)\n",
    "    ans = []\n",
    "    c = 0\n",
    "    for i in range(n):\n",
    "        if A[abs(A[i])-1]>0:\n",
    "            A[abs(A[i])-1] = -A[abs(A[i])-1]\n",
    "        else:\n",
    "            ans.append(abs(A[i]))\n",
    "            if c == 1:\n",
    "                return 1\n",
    "            else:\n",
    "                c=1\n",
    "    if c==1:\n",
    "        return ans[0]\n",
    "    return -1\n",
    "A = [3,1,4,3]\n",
    "repeatedNumber(A)"
   ]
  },
  {
   "cell_type": "markdown",
   "metadata": {},
   "source": [
    "__N/3 Repeat Number__"
   ]
  },
  {
   "cell_type": "code",
   "execution_count": 5,
   "metadata": {},
   "outputs": [
    {
     "name": "stdout",
     "output_type": "stream",
     "text": [
      "-1\n",
      "3\n"
     ]
    }
   ],
   "source": [
    "def repeatedNumber(A):\n",
    "    el1 = 0\n",
    "    el2 = 1\n",
    "    c1 = 0\n",
    "    c2 = 0\n",
    "    n = len(A)\n",
    "    for i in range(n):\n",
    "        if el1 == A[i]: c1 += 1\n",
    "        elif el2 == A[i]: c2 += 1\n",
    "        elif c1==0:\n",
    "            c1 = 1\n",
    "            el1 = A[i]\n",
    "        elif c2 == 0:\n",
    "            el2  = A[i]\n",
    "            c2 = 1\n",
    "        else:\n",
    "            c1 -= 1\n",
    "            c2 -= 1\n",
    "    c1 = 0\n",
    "    c2 = 0\n",
    "    for i in range(n):\n",
    "        if el1 == A[i]:\n",
    "            c1 += 1\n",
    "        elif el2 == A[i]:\n",
    "            c2 += 1\n",
    "\n",
    "    if c1>n//3:\n",
    "        return el1\n",
    "    elif c2>n/3:\n",
    "        return el2\n",
    "    else:\n",
    "        return -1\n",
    "print(repeatedNumber([5,5,4,3,3,1,2,3,1,1]))\n",
    "print(repeatedNumber([5,5,4,3,3,1,2,3]))"
   ]
  },
  {
   "cell_type": "code",
   "execution_count": null,
   "metadata": {},
   "outputs": [],
   "source": []
  }
 ],
 "metadata": {
  "kernelspec": {
   "display_name": "Python 3",
   "language": "python",
   "name": "python3"
  },
  "language_info": {
   "codemirror_mode": {
    "name": "ipython",
    "version": 3
   },
   "file_extension": ".py",
   "mimetype": "text/x-python",
   "name": "python",
   "nbconvert_exporter": "python",
   "pygments_lexer": "ipython3",
   "version": "3.7.6"
  }
 },
 "nbformat": 4,
 "nbformat_minor": 4
}
